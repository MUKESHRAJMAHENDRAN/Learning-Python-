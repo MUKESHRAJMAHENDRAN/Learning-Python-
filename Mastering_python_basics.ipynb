{
  "nbformat": 4,
  "nbformat_minor": 0,
  "metadata": {
    "colab": {
      "name": "Mastering python_basics.ipynb",
      "provenance": []
    },
    "kernelspec": {
      "name": "python3",
      "display_name": "Python 3"
    },
    "language_info": {
      "name": "python"
    }
  },
  "cells": [
    {
      "cell_type": "code",
      "metadata": {
        "colab": {
          "base_uri": "https://localhost:8080/"
        },
        "id": "MQncE1R8jIP6",
        "outputId": "81e23711-06fb-4822-e8f3-4172eafa3922"
      },
      "source": [
        "name = input(\"Enter your name \")"
      ],
      "execution_count": null,
      "outputs": [
        {
          "name": "stdout",
          "output_type": "stream",
          "text": [
            "Enter your name Mukeshraj M\n"
          ]
        }
      ]
    },
    {
      "cell_type": "code",
      "metadata": {
        "colab": {
          "base_uri": "https://localhost:8080/"
        },
        "id": "nKRGPj1ujSFL",
        "outputId": "a51f327b-b1bf-4652-d5eb-c8b189e4db85"
      },
      "source": [
        "print(\"Hiiiiiiiiiiiiiiiiiiiii \"+ name)"
      ],
      "execution_count": null,
      "outputs": [
        {
          "output_type": "stream",
          "name": "stdout",
          "text": [
            "Hiiiiiiiiiiiiiiiiiiiii Mukeshraj M\n"
          ]
        }
      ]
    },
    {
      "cell_type": "code",
      "metadata": {
        "colab": {
          "base_uri": "https://localhost:8080/"
        },
        "id": "iypk2XvYjT8D",
        "outputId": "6049f060-c28c-48ae-8033-734c5dbbc2c8"
      },
      "source": [
        "6//4"
      ],
      "execution_count": null,
      "outputs": [
        {
          "output_type": "execute_result",
          "data": {
            "text/plain": [
              "1"
            ]
          },
          "metadata": {},
          "execution_count": 3
        }
      ]
    },
    {
      "cell_type": "code",
      "metadata": {
        "id": "tF3A0eQ9re39",
        "colab": {
          "base_uri": "https://localhost:8080/"
        },
        "outputId": "f3cff0b0-7ace-405b-c5a9-5d6bce567e22"
      },
      "source": [
        "7//4"
      ],
      "execution_count": null,
      "outputs": [
        {
          "output_type": "execute_result",
          "data": {
            "text/plain": [
              "1"
            ]
          },
          "metadata": {},
          "execution_count": 4
        }
      ]
    },
    {
      "cell_type": "code",
      "metadata": {
        "id": "kJqFvcsBrhlM",
        "colab": {
          "base_uri": "https://localhost:8080/"
        },
        "outputId": "d62c072e-dfed-460f-bc0e-fd4b2c05a653"
      },
      "source": [
        "8//4"
      ],
      "execution_count": null,
      "outputs": [
        {
          "output_type": "execute_result",
          "data": {
            "text/plain": [
              "2"
            ]
          },
          "metadata": {},
          "execution_count": 5
        }
      ]
    },
    {
      "cell_type": "code",
      "metadata": {
        "id": "_Ul6IdVIrjic",
        "colab": {
          "base_uri": "https://localhost:8080/"
        },
        "outputId": "1991a267-8efe-442c-bbb3-6b224a4cf629"
      },
      "source": [
        "round(50.678)"
      ],
      "execution_count": null,
      "outputs": [
        {
          "output_type": "execute_result",
          "data": {
            "text/plain": [
              "51"
            ]
          },
          "metadata": {},
          "execution_count": 6
        }
      ]
    },
    {
      "cell_type": "code",
      "metadata": {
        "colab": {
          "base_uri": "https://localhost:8080/"
        },
        "id": "eXASzP7DF7Md",
        "outputId": "4c5e4830-331e-4ac0-d2c3-7cfb102f17b9"
      },
      "source": [
        "round(50.6547896,3)"
      ],
      "execution_count": null,
      "outputs": [
        {
          "output_type": "execute_result",
          "data": {
            "text/plain": [
              "50.655"
            ]
          },
          "metadata": {},
          "execution_count": 7
        }
      ]
    },
    {
      "cell_type": "code",
      "metadata": {
        "colab": {
          "base_uri": "https://localhost:8080/",
          "height": 35
        },
        "id": "oN5Eq-4zF_IT",
        "outputId": "80457920-ec88-4017-9838-c4d31dd27984"
      },
      "source": [
        "bin(5)"
      ],
      "execution_count": null,
      "outputs": [
        {
          "output_type": "execute_result",
          "data": {
            "application/vnd.google.colaboratory.intrinsic+json": {
              "type": "string"
            },
            "text/plain": [
              "'0b101'"
            ]
          },
          "metadata": {},
          "execution_count": 8
        }
      ]
    },
    {
      "cell_type": "code",
      "metadata": {
        "colab": {
          "base_uri": "https://localhost:8080/"
        },
        "id": "jFB6sbSaIeXE",
        "outputId": "ca82f6d4-418b-450a-8fa7-28afa3537393"
      },
      "source": [
        "0b101"
      ],
      "execution_count": null,
      "outputs": [
        {
          "output_type": "execute_result",
          "data": {
            "text/plain": [
              "5"
            ]
          },
          "metadata": {},
          "execution_count": 9
        }
      ]
    },
    {
      "cell_type": "markdown",
      "metadata": {
        "id": "yxtwsPFxYE5f"
      },
      "source": [
        "Augument assignment operator"
      ]
    },
    {
      "cell_type": "code",
      "metadata": {
        "id": "fdlq22TfJF-z"
      },
      "source": [
        "a = 54"
      ],
      "execution_count": null,
      "outputs": []
    },
    {
      "cell_type": "code",
      "metadata": {
        "id": "-s71RRmRXl_d"
      },
      "source": [
        "a -=43"
      ],
      "execution_count": null,
      "outputs": []
    },
    {
      "cell_type": "code",
      "metadata": {
        "colab": {
          "base_uri": "https://localhost:8080/"
        },
        "id": "09vdc4OBX_PW",
        "outputId": "bd10e558-331d-49bf-bc2d-18b079cfb0c0"
      },
      "source": [
        "a"
      ],
      "execution_count": null,
      "outputs": [
        {
          "output_type": "execute_result",
          "data": {
            "text/plain": [
              "11"
            ]
          },
          "metadata": {},
          "execution_count": 12
        }
      ]
    },
    {
      "cell_type": "markdown",
      "metadata": {
        "id": "eCZ8kcxRwGcS"
      },
      "source": [
        "Escape sequence"
      ]
    },
    {
      "cell_type": "code",
      "metadata": {
        "colab": {
          "base_uri": "https://localhost:8080/"
        },
        "id": "5JP2WJbhv2QK",
        "outputId": "6aaf2e9e-9c7a-480b-a66c-7c24e09a8571"
      },
      "source": [
        "print(\"hello\\tworld \\nI am a python programmer\")"
      ],
      "execution_count": null,
      "outputs": [
        {
          "output_type": "stream",
          "name": "stdout",
          "text": [
            "hello\tworld \n",
            "I am a python programmer\n"
          ]
        }
      ]
    },
    {
      "cell_type": "code",
      "metadata": {
        "id": "1YtLCFgUv5rS"
      },
      "source": [
        "name = 'mukeshraj'"
      ],
      "execution_count": null,
      "outputs": []
    },
    {
      "cell_type": "code",
      "metadata": {
        "colab": {
          "base_uri": "https://localhost:8080/",
          "height": 35
        },
        "id": "5HOeFOPghIWa",
        "outputId": "92108ce2-b441-4858-cfb3-6cb45f9ab6e0"
      },
      "source": [
        "name.upper()"
      ],
      "execution_count": null,
      "outputs": [
        {
          "output_type": "execute_result",
          "data": {
            "application/vnd.google.colaboratory.intrinsic+json": {
              "type": "string"
            },
            "text/plain": [
              "'MUKESHRAJ'"
            ]
          },
          "metadata": {},
          "execution_count": 4
        }
      ]
    },
    {
      "cell_type": "code",
      "metadata": {
        "colab": {
          "base_uri": "https://localhost:8080/",
          "height": 35
        },
        "id": "VvD6bzmWhSWk",
        "outputId": "7932e4e5-42d1-4030-8397-49015109f2bd"
      },
      "source": [
        "name.capitalize()"
      ],
      "execution_count": null,
      "outputs": [
        {
          "output_type": "execute_result",
          "data": {
            "application/vnd.google.colaboratory.intrinsic+json": {
              "type": "string"
            },
            "text/plain": [
              "'Mukeshraj'"
            ]
          },
          "metadata": {},
          "execution_count": 5
        }
      ]
    },
    {
      "cell_type": "code",
      "metadata": {
        "colab": {
          "base_uri": "https://localhost:8080/"
        },
        "id": "nTXdMTzvhWVc",
        "outputId": "3fcc1cb0-2ad8-4c3a-d09f-1e5ba87b422d"
      },
      "source": [
        "name.find(\"h\")"
      ],
      "execution_count": null,
      "outputs": [
        {
          "output_type": "execute_result",
          "data": {
            "text/plain": [
              "5"
            ]
          },
          "metadata": {},
          "execution_count": 7
        }
      ]
    },
    {
      "cell_type": "code",
      "metadata": {
        "colab": {
          "base_uri": "https://localhost:8080/",
          "height": 35
        },
        "id": "C8iV9S7EhlC8",
        "outputId": "269bca36-9d46-4c56-b5a2-d0568200cf02"
      },
      "source": [
        "name.replace('k' , 'g')"
      ],
      "execution_count": null,
      "outputs": [
        {
          "output_type": "execute_result",
          "data": {
            "application/vnd.google.colaboratory.intrinsic+json": {
              "type": "string"
            },
            "text/plain": [
              "'mugeshraj'"
            ]
          },
          "metadata": {},
          "execution_count": 10
        }
      ]
    },
    {
      "cell_type": "code",
      "metadata": {
        "colab": {
          "base_uri": "https://localhost:8080/",
          "height": 35
        },
        "id": "qcMVb5Okht20",
        "outputId": "77b04c74-29d1-4675-bd86-bb456e7fd087"
      },
      "source": [
        "name"
      ],
      "execution_count": null,
      "outputs": [
        {
          "output_type": "execute_result",
          "data": {
            "application/vnd.google.colaboratory.intrinsic+json": {
              "type": "string"
            },
            "text/plain": [
              "'mukeshraj'"
            ]
          },
          "metadata": {},
          "execution_count": 11
        }
      ]
    },
    {
      "cell_type": "code",
      "metadata": {
        "id": "3MQEGVFih1Zk"
      },
      "source": [
        "me = \"  I am a programmer  \""
      ],
      "execution_count": null,
      "outputs": []
    },
    {
      "cell_type": "code",
      "metadata": {
        "colab": {
          "base_uri": "https://localhost:8080/",
          "height": 35
        },
        "id": "izA107fLjYUF",
        "outputId": "7e60a1fb-b597-43ad-dc43-13f44923a3c7"
      },
      "source": [
        "me"
      ],
      "execution_count": null,
      "outputs": [
        {
          "output_type": "execute_result",
          "data": {
            "application/vnd.google.colaboratory.intrinsic+json": {
              "type": "string"
            },
            "text/plain": [
              "'  I am a programmer  '"
            ]
          },
          "metadata": {},
          "execution_count": 16
        }
      ]
    },
    {
      "cell_type": "code",
      "metadata": {
        "colab": {
          "base_uri": "https://localhost:8080/",
          "height": 35
        },
        "id": "xrxCZHhfjY9k",
        "outputId": "4e5bca11-b642-47e1-c192-4ba5aed7e605"
      },
      "source": [
        "me.strip()"
      ],
      "execution_count": null,
      "outputs": [
        {
          "output_type": "execute_result",
          "data": {
            "application/vnd.google.colaboratory.intrinsic+json": {
              "type": "string"
            },
            "text/plain": [
              "'I am a programmer'"
            ]
          },
          "metadata": {},
          "execution_count": 17
        }
      ]
    },
    {
      "cell_type": "code",
      "metadata": {
        "id": "lQN3wnJfj68t"
      },
      "source": [
        "name2 = \"Rajar\""
      ],
      "execution_count": null,
      "outputs": []
    },
    {
      "cell_type": "code",
      "metadata": {
        "colab": {
          "base_uri": "https://localhost:8080/",
          "height": 35
        },
        "id": "k5RSfxtwjbp8",
        "outputId": "e47d4559-8557-4c6b-b5fe-01c397a71613"
      },
      "source": [
        "name2.strip(\"r\")"
      ],
      "execution_count": null,
      "outputs": [
        {
          "output_type": "execute_result",
          "data": {
            "application/vnd.google.colaboratory.intrinsic+json": {
              "type": "string"
            },
            "text/plain": [
              "'Raja'"
            ]
          },
          "metadata": {},
          "execution_count": 24
        }
      ]
    },
    {
      "cell_type": "code",
      "metadata": {
        "colab": {
          "base_uri": "https://localhost:8080/"
        },
        "id": "m33dp3M0jo60",
        "outputId": "068d8a17-2667-484f-c527-9061dbcea5aa"
      },
      "source": [
        "\"life is good\".split()"
      ],
      "execution_count": null,
      "outputs": [
        {
          "output_type": "execute_result",
          "data": {
            "text/plain": [
              "['life', 'is', 'good']"
            ]
          },
          "metadata": {},
          "execution_count": 25
        }
      ]
    },
    {
      "cell_type": "code",
      "metadata": {
        "colab": {
          "base_uri": "https://localhost:8080/",
          "height": 35
        },
        "id": "o2JE45LJkNCk",
        "outputId": "defb0e78-8fc4-4a4f-c24d-94f07e65eb3f"
      },
      "source": [
        "\"help me\".replace(\"me\",\"you\")"
      ],
      "execution_count": null,
      "outputs": [
        {
          "output_type": "execute_result",
          "data": {
            "application/vnd.google.colaboratory.intrinsic+json": {
              "type": "string"
            },
            "text/plain": [
              "'help you'"
            ]
          },
          "metadata": {},
          "execution_count": 26
        }
      ]
    },
    {
      "cell_type": "code",
      "metadata": {
        "id": "JNQfuQ5UkWss"
      },
      "source": [
        "word = 'reviver'"
      ],
      "execution_count": null,
      "outputs": []
    },
    {
      "cell_type": "code",
      "metadata": {
        "colab": {
          "base_uri": "https://localhost:8080/",
          "height": 35
        },
        "id": "PwsXWeIHkwiM",
        "outputId": "9049a578-35c2-42de-a575-7d59877c7b27"
      },
      "source": [
        "word[::-1]"
      ],
      "execution_count": null,
      "outputs": [
        {
          "output_type": "execute_result",
          "data": {
            "application/vnd.google.colaboratory.intrinsic+json": {
              "type": "string"
            },
            "text/plain": [
              "'reviver'"
            ]
          },
          "metadata": {},
          "execution_count": 29
        }
      ]
    },
    {
      "cell_type": "code",
      "metadata": {
        "colab": {
          "base_uri": "https://localhost:8080/",
          "height": 35
        },
        "id": "V7HOmfXjk7pn",
        "outputId": "38d9b351-e1a6-46bf-d038-3d0339a4f38e"
      },
      "source": [
        "name[::-1]"
      ],
      "execution_count": null,
      "outputs": [
        {
          "output_type": "execute_result",
          "data": {
            "application/vnd.google.colaboratory.intrinsic+json": {
              "type": "string"
            },
            "text/plain": [
              "'jarhsekum'"
            ]
          },
          "metadata": {},
          "execution_count": 32
        }
      ]
    },
    {
      "cell_type": "code",
      "metadata": {
        "colab": {
          "base_uri": "https://localhost:8080/"
        },
        "id": "8CweWbZqk9YU",
        "outputId": "f59aa413-b945-4828-86eb-e51b57ecc2b2"
      },
      "source": [
        "birth_year = int(input(\"Enter your birth year \"))\n",
        "age = 2021-birth_year\n",
        "\n",
        "print(f'My age is:{age}')"
      ],
      "execution_count": null,
      "outputs": [
        {
          "output_type": "stream",
          "name": "stdout",
          "text": [
            "Enter your birth year 1997\n",
            "My age is:24\n"
          ]
        }
      ]
    },
    {
      "cell_type": "code",
      "metadata": {
        "id": "YYHhlWglyjbP"
      },
      "source": [
        "# I am going to comment this by selecting and pressing ctrl+/"
      ],
      "execution_count": null,
      "outputs": []
    },
    {
      "cell_type": "markdown",
      "metadata": {
        "id": "wu0U-GXlztOV"
      },
      "source": [
        "creating a user name and checking the length of password"
      ]
    },
    {
      "cell_type": "code",
      "metadata": {
        "colab": {
          "base_uri": "https://localhost:8080/"
        },
        "id": "F23Euixxyw9i",
        "outputId": "e46247f3-71b6-4e5c-e3c1-49729a22c1ff"
      },
      "source": [
        "user_name = input(\"Enter the user name:\")\n",
        "\n",
        "password = input(\"Enter the password:\")\n",
        "\n",
        "print(f'your name is {user_name} and password {len(password)*\"*\"} is {len(password)} letter long ')"
      ],
      "execution_count": null,
      "outputs": [
        {
          "output_type": "stream",
          "name": "stdout",
          "text": [
            "Enter the user name:Mukesh\n",
            "Enter the password:Lokesh\n",
            "your name is Mukesh and password ****** is 6 letter long \n"
          ]
        }
      ]
    },
    {
      "cell_type": "code",
      "metadata": {
        "id": "aHe9Gmt00jmC",
        "colab": {
          "base_uri": "https://localhost:8080/"
        },
        "outputId": "a32d9fdb-287f-4f5f-c8ab-610737259c67"
      },
      "source": [
        "print(list(range(1,200,5)))"
      ],
      "execution_count": null,
      "outputs": [
        {
          "output_type": "stream",
          "name": "stdout",
          "text": [
            "[1, 6, 11, 16, 21, 26, 31, 36, 41, 46, 51, 56, 61, 66, 71, 76, 81, 86, 91, 96, 101, 106, 111, 116, 121, 126, 131, 136, 141, 146, 151, 156, 161, 166, 171, 176, 181, 186, 191, 196]\n"
          ]
        }
      ]
    },
    {
      "cell_type": "code",
      "metadata": {
        "id": "KPWQ_0EFJuZp"
      },
      "source": [
        "basket = [1,5,6,3,2]"
      ],
      "execution_count": null,
      "outputs": []
    },
    {
      "cell_type": "code",
      "metadata": {
        "colab": {
          "base_uri": "https://localhost:8080/"
        },
        "id": "nlX1phoFTh8B",
        "outputId": "74786d3e-2dfb-4361-f564-f80cea76c103"
      },
      "source": [
        "basket"
      ],
      "execution_count": null,
      "outputs": [
        {
          "output_type": "execute_result",
          "data": {
            "text/plain": [
              "[1, 5, 6, 3, 2]"
            ]
          },
          "metadata": {},
          "execution_count": 17
        }
      ]
    },
    {
      "cell_type": "code",
      "metadata": {
        "colab": {
          "base_uri": "https://localhost:8080/"
        },
        "id": "N-tOQ3vDTjk6",
        "outputId": "55275aba-4216-4b4b-bac5-9c559eb54945"
      },
      "source": [
        "basket.pop()"
      ],
      "execution_count": null,
      "outputs": [
        {
          "output_type": "execute_result",
          "data": {
            "text/plain": [
              "2"
            ]
          },
          "metadata": {},
          "execution_count": 18
        }
      ]
    },
    {
      "cell_type": "code",
      "metadata": {
        "colab": {
          "base_uri": "https://localhost:8080/"
        },
        "id": "8QGSy4hSTlm6",
        "outputId": "f1e8c669-0a5c-4788-8a57-5e662aafcad7"
      },
      "source": [
        "basket"
      ],
      "execution_count": null,
      "outputs": [
        {
          "output_type": "execute_result",
          "data": {
            "text/plain": [
              "[3, 6, 5, 1]"
            ]
          },
          "metadata": {},
          "execution_count": 22
        }
      ]
    },
    {
      "cell_type": "code",
      "metadata": {
        "id": "HSkLcSRLU6uy"
      },
      "source": [
        "basket.sort()"
      ],
      "execution_count": null,
      "outputs": []
    },
    {
      "cell_type": "code",
      "metadata": {
        "id": "iapvU9k9U9aC"
      },
      "source": [
        "a = [1,2,5,3,4]"
      ],
      "execution_count": null,
      "outputs": []
    },
    {
      "cell_type": "code",
      "metadata": {
        "id": "24ZLi8c2VA_y"
      },
      "source": [
        "a.sort()"
      ],
      "execution_count": null,
      "outputs": []
    },
    {
      "cell_type": "code",
      "metadata": {
        "colab": {
          "base_uri": "https://localhost:8080/"
        },
        "id": "5SWvxu-DVDtC",
        "outputId": "981a02b4-185a-46f9-b65b-f28566814142"
      },
      "source": [
        "a"
      ],
      "execution_count": null,
      "outputs": [
        {
          "output_type": "execute_result",
          "data": {
            "text/plain": [
              "[1, 2, 3, 4, 5]"
            ]
          },
          "metadata": {},
          "execution_count": 26
        }
      ]
    },
    {
      "cell_type": "code",
      "metadata": {
        "colab": {
          "base_uri": "https://localhost:8080/"
        },
        "id": "o-6zX4CTVEYS",
        "outputId": "896559bd-9d56-4d94-f66e-429601343be0"
      },
      "source": [
        "min(a)"
      ],
      "execution_count": null,
      "outputs": [
        {
          "output_type": "execute_result",
          "data": {
            "text/plain": [
              "1"
            ]
          },
          "metadata": {},
          "execution_count": 28
        }
      ]
    },
    {
      "cell_type": "code",
      "metadata": {
        "colab": {
          "base_uri": "https://localhost:8080/"
        },
        "id": "ArqRA02yVTMi",
        "outputId": "ad351f82-8eef-495f-d6d6-4f050cdd802e"
      },
      "source": [
        "max(a)"
      ],
      "execution_count": null,
      "outputs": [
        {
          "output_type": "execute_result",
          "data": {
            "text/plain": [
              "5"
            ]
          },
          "metadata": {},
          "execution_count": 29
        }
      ]
    },
    {
      "cell_type": "code",
      "metadata": {
        "id": "X1cQpsmvVV2y"
      },
      "source": [
        "a.reverse()"
      ],
      "execution_count": null,
      "outputs": []
    },
    {
      "cell_type": "code",
      "metadata": {
        "colab": {
          "base_uri": "https://localhost:8080/"
        },
        "id": "b0H9PG5tVXlC",
        "outputId": "28f10b51-0859-4177-ff2b-e4a0ff6a095b"
      },
      "source": [
        "a"
      ],
      "execution_count": null,
      "outputs": [
        {
          "output_type": "execute_result",
          "data": {
            "text/plain": [
              "[5, 4, 3, 2, 1]"
            ]
          },
          "metadata": {},
          "execution_count": 32
        }
      ]
    },
    {
      "cell_type": "markdown",
      "metadata": {
        "id": "rn3nJZALVclK"
      },
      "source": [
        "Dictionaries"
      ]
    },
    {
      "cell_type": "code",
      "metadata": {
        "id": "5H9irsGGm7Fi"
      },
      "source": [
        "a= {\n",
        "    'name' : \"Mukeshraj\",\n",
        "    'age' : 24,\n",
        "    'good_person' :True\n",
        "}"
      ],
      "execution_count": 3,
      "outputs": []
    },
    {
      "cell_type": "code",
      "metadata": {
        "colab": {
          "base_uri": "https://localhost:8080/"
        },
        "id": "eEXT0hrPnHui",
        "outputId": "52ff0313-d469-40d7-c647-ebd39283846b"
      },
      "source": [
        "print(a)"
      ],
      "execution_count": 4,
      "outputs": [
        {
          "output_type": "stream",
          "name": "stdout",
          "text": [
            "{'name': 'Mukeshraj', 'age': 24, 'good_person': True}\n"
          ]
        }
      ]
    },
    {
      "cell_type": "code",
      "metadata": {
        "id": "ebFYpoDxnbVx"
      },
      "source": [
        "b = dict(name = \"Lokeshraj\", age =20, good_person = True)"
      ],
      "execution_count": 5,
      "outputs": []
    },
    {
      "cell_type": "code",
      "metadata": {
        "colab": {
          "base_uri": "https://localhost:8080/"
        },
        "id": "ZdebfmnOnqVy",
        "outputId": "1af3c468-77f7-4ada-a42e-b7660a5b5ed6"
      },
      "source": [
        "b"
      ],
      "execution_count": 6,
      "outputs": [
        {
          "output_type": "execute_result",
          "data": {
            "text/plain": [
              "{'age': 20, 'good_person': True, 'name': 'Lokeshraj'}"
            ]
          },
          "metadata": {},
          "execution_count": 6
        }
      ]
    },
    {
      "cell_type": "code",
      "metadata": {
        "colab": {
          "base_uri": "https://localhost:8080/"
        },
        "id": "2--chEPgnrQx",
        "outputId": "a361a261-52dd-49bc-9ba5-af2c826674f1"
      },
      "source": [
        "a.keys()"
      ],
      "execution_count": 8,
      "outputs": [
        {
          "output_type": "execute_result",
          "data": {
            "text/plain": [
              "dict_keys(['name', 'age', 'good_person'])"
            ]
          },
          "metadata": {},
          "execution_count": 8
        }
      ]
    },
    {
      "cell_type": "code",
      "metadata": {
        "colab": {
          "base_uri": "https://localhost:8080/"
        },
        "id": "1OPwMJdgnv4R",
        "outputId": "7ccca195-81be-4ef5-dbc1-f38702b0633e"
      },
      "source": [
        "a.values()"
      ],
      "execution_count": 9,
      "outputs": [
        {
          "output_type": "execute_result",
          "data": {
            "text/plain": [
              "dict_values(['Mukeshraj', 24, True])"
            ]
          },
          "metadata": {},
          "execution_count": 9
        }
      ]
    },
    {
      "cell_type": "code",
      "metadata": {
        "colab": {
          "base_uri": "https://localhost:8080/"
        },
        "id": "NlNtQM86n0lp",
        "outputId": "89a66dd4-3458-4a69-c279-1f7b0898f31c"
      },
      "source": [
        "type(a)"
      ],
      "execution_count": 10,
      "outputs": [
        {
          "output_type": "execute_result",
          "data": {
            "text/plain": [
              "dict"
            ]
          },
          "metadata": {},
          "execution_count": 10
        }
      ]
    },
    {
      "cell_type": "code",
      "metadata": {
        "id": "uCPZUUern5ox"
      },
      "source": [
        "a.update(degree = \"Computer science engineering\")"
      ],
      "execution_count": 13,
      "outputs": []
    },
    {
      "cell_type": "code",
      "metadata": {
        "colab": {
          "base_uri": "https://localhost:8080/"
        },
        "id": "HSi0zFvgoAwo",
        "outputId": "680b33b7-ea23-4c30-c3ff-c23866215253"
      },
      "source": [
        "a"
      ],
      "execution_count": 14,
      "outputs": [
        {
          "output_type": "execute_result",
          "data": {
            "text/plain": [
              "{'age': 24,\n",
              " 'degree': 'Computer science engineering',\n",
              " 'good_person': True,\n",
              " 'name': 'Mukeshraj'}"
            ]
          },
          "metadata": {},
          "execution_count": 14
        }
      ]
    },
    {
      "cell_type": "code",
      "metadata": {
        "colab": {
          "base_uri": "https://localhost:8080/"
        },
        "id": "re62WjjSoBWI",
        "outputId": "0de451b4-fe09-478e-e844-4d4283764de2"
      },
      "source": [
        "a.pop('good_person')"
      ],
      "execution_count": 16,
      "outputs": [
        {
          "output_type": "execute_result",
          "data": {
            "text/plain": [
              "True"
            ]
          },
          "metadata": {},
          "execution_count": 16
        }
      ]
    },
    {
      "cell_type": "code",
      "metadata": {
        "colab": {
          "base_uri": "https://localhost:8080/"
        },
        "id": "xN9oHVm_oTpx",
        "outputId": "7d6fa76f-0316-4118-868f-3f3b492e11ea"
      },
      "source": [
        "a"
      ],
      "execution_count": 17,
      "outputs": [
        {
          "output_type": "execute_result",
          "data": {
            "text/plain": [
              "{'age': 24, 'degree': 'Computer science engineering', 'name': 'Mukeshraj'}"
            ]
          },
          "metadata": {},
          "execution_count": 17
        }
      ]
    },
    {
      "cell_type": "markdown",
      "metadata": {
        "id": "ZB89uyAwoYUR"
      },
      "source": [
        "Tuples"
      ]
    },
    {
      "cell_type": "code",
      "metadata": {
        "id": "LG3yS4RmoieS"
      },
      "source": [
        "a = tuple(range(1,100))"
      ],
      "execution_count": 21,
      "outputs": []
    },
    {
      "cell_type": "code",
      "metadata": {
        "colab": {
          "base_uri": "https://localhost:8080/"
        },
        "id": "itZe2UA-olLJ",
        "outputId": "e3a004fa-6903-424c-bf55-c170b517d4a3"
      },
      "source": [
        "print(a)"
      ],
      "execution_count": 22,
      "outputs": [
        {
          "output_type": "stream",
          "name": "stdout",
          "text": [
            "(1, 2, 3, 4, 5, 6, 7, 8, 9, 10, 11, 12, 13, 14, 15, 16, 17, 18, 19, 20, 21, 22, 23, 24, 25, 26, 27, 28, 29, 30, 31, 32, 33, 34, 35, 36, 37, 38, 39, 40, 41, 42, 43, 44, 45, 46, 47, 48, 49, 50, 51, 52, 53, 54, 55, 56, 57, 58, 59, 60, 61, 62, 63, 64, 65, 66, 67, 68, 69, 70, 71, 72, 73, 74, 75, 76, 77, 78, 79, 80, 81, 82, 83, 84, 85, 86, 87, 88, 89, 90, 91, 92, 93, 94, 95, 96, 97, 98, 99)\n"
          ]
        }
      ]
    },
    {
      "cell_type": "code",
      "metadata": {
        "colab": {
          "base_uri": "https://localhost:8080/"
        },
        "id": "3Peptt0Zol8R",
        "outputId": "69d1258d-c42b-4483-846f-49e17f46d8f6"
      },
      "source": [
        "a.count(2)"
      ],
      "execution_count": 23,
      "outputs": [
        {
          "output_type": "execute_result",
          "data": {
            "text/plain": [
              "1"
            ]
          },
          "metadata": {},
          "execution_count": 23
        }
      ]
    },
    {
      "cell_type": "code",
      "metadata": {
        "colab": {
          "base_uri": "https://localhost:8080/"
        },
        "id": "i1E76cA1oyJp",
        "outputId": "f97ebdd1-92b8-4fbc-e120-3530ed1218c7"
      },
      "source": [
        "a.index(5)"
      ],
      "execution_count": 24,
      "outputs": [
        {
          "output_type": "execute_result",
          "data": {
            "text/plain": [
              "4"
            ]
          },
          "metadata": {},
          "execution_count": 24
        }
      ]
    },
    {
      "cell_type": "markdown",
      "metadata": {
        "id": "K7JiwweEo0Wg"
      },
      "source": [
        "Set"
      ]
    },
    {
      "cell_type": "code",
      "metadata": {
        "id": "ujpH5Enoo6vh"
      },
      "source": [
        "c = {1,1,2,2,3,45,5,6}"
      ],
      "execution_count": 27,
      "outputs": []
    },
    {
      "cell_type": "code",
      "metadata": {
        "colab": {
          "base_uri": "https://localhost:8080/"
        },
        "id": "Ii4rCDoJpBiw",
        "outputId": "0768fcfc-2050-4fb7-d5a4-090cb1a190c7"
      },
      "source": [
        "c"
      ],
      "execution_count": 28,
      "outputs": [
        {
          "output_type": "execute_result",
          "data": {
            "text/plain": [
              "{1, 2, 3, 5, 6, 45}"
            ]
          },
          "metadata": {},
          "execution_count": 28
        }
      ]
    },
    {
      "cell_type": "code",
      "metadata": {
        "id": "OX1D2lzOpGsI"
      },
      "source": [
        "d = set(range(1,8))"
      ],
      "execution_count": 29,
      "outputs": []
    },
    {
      "cell_type": "code",
      "metadata": {
        "colab": {
          "base_uri": "https://localhost:8080/"
        },
        "id": "qpnEfD5gpNQZ",
        "outputId": "a1fb7796-94cf-4eb6-e4e7-482ae8dc9892"
      },
      "source": [
        "d"
      ],
      "execution_count": 30,
      "outputs": [
        {
          "output_type": "execute_result",
          "data": {
            "text/plain": [
              "{1, 2, 3, 4, 5, 6, 7}"
            ]
          },
          "metadata": {},
          "execution_count": 30
        }
      ]
    },
    {
      "cell_type": "code",
      "metadata": {
        "colab": {
          "base_uri": "https://localhost:8080/"
        },
        "id": "5aUyawGVpN8I",
        "outputId": "6ef56453-33b6-4811-a48f-226be88ceb9b"
      },
      "source": [
        "c.union(d)"
      ],
      "execution_count": 31,
      "outputs": [
        {
          "output_type": "execute_result",
          "data": {
            "text/plain": [
              "{1, 2, 3, 4, 5, 6, 7, 45}"
            ]
          },
          "metadata": {},
          "execution_count": 31
        }
      ]
    },
    {
      "cell_type": "code",
      "metadata": {
        "colab": {
          "base_uri": "https://localhost:8080/"
        },
        "id": "sANvGCQapTaJ",
        "outputId": "bfe79596-96e2-4c14-95a2-2e60449807dc"
      },
      "source": [
        "c.intersection(d)"
      ],
      "execution_count": 32,
      "outputs": [
        {
          "output_type": "execute_result",
          "data": {
            "text/plain": [
              "{1, 2, 3, 5, 6}"
            ]
          },
          "metadata": {},
          "execution_count": 32
        }
      ]
    },
    {
      "cell_type": "code",
      "metadata": {
        "colab": {
          "base_uri": "https://localhost:8080/"
        },
        "id": "K9bo615CpXep",
        "outputId": "c9a49a1a-5de6-472d-fc7b-3630df863c19"
      },
      "source": [
        "c.symmetric_difference(d)"
      ],
      "execution_count": 33,
      "outputs": [
        {
          "output_type": "execute_result",
          "data": {
            "text/plain": [
              "{4, 7, 45}"
            ]
          },
          "metadata": {},
          "execution_count": 33
        }
      ]
    },
    {
      "cell_type": "code",
      "metadata": {
        "colab": {
          "base_uri": "https://localhost:8080/"
        },
        "id": "_t-boZbMpgSB",
        "outputId": "60befa7a-dfbc-4626-d39e-0ea33df561a8"
      },
      "source": [
        "c.issuperset(d)"
      ],
      "execution_count": 34,
      "outputs": [
        {
          "output_type": "execute_result",
          "data": {
            "text/plain": [
              "False"
            ]
          },
          "metadata": {},
          "execution_count": 34
        }
      ]
    },
    {
      "cell_type": "code",
      "metadata": {
        "colab": {
          "base_uri": "https://localhost:8080/"
        },
        "id": "kPa85JhYpndJ",
        "outputId": "23741a05-f574-4976-c679-1f1c40570435"
      },
      "source": [
        "c.issubset(d)"
      ],
      "execution_count": 35,
      "outputs": [
        {
          "output_type": "execute_result",
          "data": {
            "text/plain": [
              "False"
            ]
          },
          "metadata": {},
          "execution_count": 35
        }
      ]
    },
    {
      "cell_type": "code",
      "metadata": {
        "id": "H-2fC0LYprEJ"
      },
      "source": [
        "c.update(d)"
      ],
      "execution_count": 37,
      "outputs": []
    },
    {
      "cell_type": "code",
      "metadata": {
        "colab": {
          "base_uri": "https://localhost:8080/"
        },
        "id": "EpdGVrxqpxnp",
        "outputId": "2943d236-0247-4485-ea4f-f90930e6d0ef"
      },
      "source": [
        "c"
      ],
      "execution_count": 38,
      "outputs": [
        {
          "output_type": "execute_result",
          "data": {
            "text/plain": [
              "{1, 2, 3, 4, 5, 6, 7, 45}"
            ]
          },
          "metadata": {},
          "execution_count": 38
        }
      ]
    }
  ]
}