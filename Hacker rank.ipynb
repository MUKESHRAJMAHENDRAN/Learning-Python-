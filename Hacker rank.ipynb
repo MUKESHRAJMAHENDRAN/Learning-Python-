{
 "cells": [
  {
   "cell_type": "markdown",
   "id": "d6cd3a17",
   "metadata": {},
   "source": [
    "# Hacker rank"
   ]
  },
  {
   "cell_type": "code",
   "execution_count": 1,
   "id": "facd8fd4",
   "metadata": {},
   "outputs": [
    {
     "name": "stdout",
     "output_type": "stream",
     "text": [
      "600\n",
      "False\n"
     ]
    }
   ],
   "source": [
    "def is_leap(year):\n",
    "    \n",
    "    return year%4==0 and (year%400==0 or year%100!=0)\n",
    "\n",
    "year = int(input())\n",
    "print(is_leap(year))"
   ]
  },
  {
   "cell_type": "code",
   "execution_count": 2,
   "id": "f2dd1edc",
   "metadata": {},
   "outputs": [
    {
     "data": {
      "text/plain": [
       "12345"
      ]
     },
     "execution_count": 2,
     "metadata": {},
     "output_type": "execute_result"
    }
   ],
   "source": [
    "5\n",
    "12345"
   ]
  },
  {
   "cell_type": "code",
   "execution_count": 3,
   "id": "a2a1a205",
   "metadata": {},
   "outputs": [
    {
     "name": "stdout",
     "output_type": "stream",
     "text": [
      "5\n",
      "12345"
     ]
    }
   ],
   "source": [
    "n = int(input())\n",
    "for i in range(1,n+1):\n",
    "    print(i, end=\"\")"
   ]
  },
  {
   "cell_type": "code",
   "execution_count": 4,
   "id": "86f4cfaa",
   "metadata": {},
   "outputs": [
    {
     "data": {
      "text/plain": [
       "[[0, 0, 0], [0, 0, 1], [0, 1, 0], [1, 0, 0], [1, 1, 1]]"
      ]
     },
     "execution_count": 4,
     "metadata": {},
     "output_type": "execute_result"
    }
   ],
   "source": [
    "[[0, 0, 0], [0, 0, 1], [0, 1, 0], [1, 0, 0], [1, 1, 1]]"
   ]
  },
  {
   "cell_type": "code",
   "execution_count": 5,
   "id": "0141b497",
   "metadata": {},
   "outputs": [
    {
     "data": {
      "text/plain": [
       "2"
      ]
     },
     "execution_count": 5,
     "metadata": {},
     "output_type": "execute_result"
    }
   ],
   "source": [
    "1\n",
    "1\n",
    "1\n",
    "2"
   ]
  },
  {
   "cell_type": "markdown",
   "id": "c534ea2f",
   "metadata": {},
   "source": [
    "List comprehension"
   ]
  },
  {
   "cell_type": "code",
   "execution_count": 6,
   "id": "42cf4ef9",
   "metadata": {},
   "outputs": [
    {
     "name": "stdout",
     "output_type": "stream",
     "text": [
      "1\n",
      "1\n",
      "1\n",
      "2\n"
     ]
    }
   ],
   "source": [
    "x = int(input())\n",
    "y = int(input())\n",
    "z = int(input())\n",
    "n = int(input())"
   ]
  },
  {
   "cell_type": "code",
   "execution_count": 10,
   "id": "1b0ddc7c",
   "metadata": {},
   "outputs": [
    {
     "name": "stdout",
     "output_type": "stream",
     "text": [
      "[[0, 0, 0], [0, 0, 1], [0, 1, 0], [1, 0, 0], [1, 1, 1]]\n"
     ]
    }
   ],
   "source": [
    "print ([[a,b,c] for a in range(x+1) for b in range(y+1) for c in range(z+1) if a + b + c != n ])"
   ]
  },
  {
   "cell_type": "code",
   "execution_count": 11,
   "id": "63cf10a9",
   "metadata": {},
   "outputs": [],
   "source": [
    "a = [1,2,3]\n",
    "b = [1,2,3]\n",
    "c = [2,4,6]"
   ]
  },
  {
   "cell_type": "code",
   "execution_count": 12,
   "id": "65fc5b74",
   "metadata": {},
   "outputs": [
    {
     "data": {
      "text/plain": [
       "[[1, 1], [1, 2], [1, 3], [2, 1], [2, 2], [2, 3], [3, 1], [3, 2], [3, 3]]"
      ]
     },
     "execution_count": 12,
     "metadata": {},
     "output_type": "execute_result"
    }
   ],
   "source": [
    "[[i,j] for i in a for j in b]"
   ]
  },
  {
   "cell_type": "code",
   "execution_count": 13,
   "id": "67335050",
   "metadata": {},
   "outputs": [
    {
     "name": "stdout",
     "output_type": "stream",
     "text": [
      "[2, 4, 6]\n"
     ]
    }
   ],
   "source": [
    "d=[]\n",
    "for i in range(len(a)):\n",
    "    c= a[i]+b[i]\n",
    "    d.append(c)\n",
    "print(d)"
   ]
  },
  {
   "cell_type": "code",
   "execution_count": 14,
   "id": "1bad46ed",
   "metadata": {},
   "outputs": [],
   "source": [
    "a = [1,2,3]\n",
    "b = [1,4,9]"
   ]
  },
  {
   "cell_type": "code",
   "execution_count": 15,
   "id": "054d4460",
   "metadata": {},
   "outputs": [
    {
     "name": "stdout",
     "output_type": "stream",
     "text": [
      "[2, 6, 12]\n"
     ]
    }
   ],
   "source": [
    "e =[]\n",
    "for i in range(len(a)):\n",
    "    f = a[i]+b[i]\n",
    "    e.append(f)\n",
    "print(e)"
   ]
  },
  {
   "cell_type": "code",
   "execution_count": null,
   "id": "361e7e5d",
   "metadata": {},
   "outputs": [],
   "source": [
    "arr  = map(int(),input().split())"
   ]
  },
  {
   "cell_type": "code",
   "execution_count": null,
   "id": "e28ed628",
   "metadata": {},
   "outputs": [],
   "source": [
    "type(arr)"
   ]
  },
  {
   "cell_type": "code",
   "execution_count": null,
   "id": "baad6e2a",
   "metadata": {},
   "outputs": [],
   "source": [
    "2 3 6 6 5"
   ]
  },
  {
   "cell_type": "code",
   "execution_count": null,
   "id": "b0826b51",
   "metadata": {},
   "outputs": [],
   "source": [
    "n = int(input())\n",
    "num = map(int, input().split())\n",
    "\n",
    "print(sorted(list(set(num)))[-2])"
   ]
  },
  {
   "cell_type": "code",
   "execution_count": null,
   "id": "63296719",
   "metadata": {},
   "outputs": [],
   "source": [
    "__name__"
   ]
  },
  {
   "cell_type": "markdown",
   "id": "be8ae0b1",
   "metadata": {},
   "source": [
    "5\n",
    "Harry\n",
    "37.21\n",
    "Berry\n",
    "37.21\n",
    "Tina\n",
    "37.2\n",
    "Akriti\n",
    "41\n",
    "Harsh\n",
    "39"
   ]
  },
  {
   "cell_type": "markdown",
   "id": "3d1f96ed",
   "metadata": {},
   "source": [
    "Berry\n",
    "Harry"
   ]
  },
  {
   "cell_type": "markdown",
   "id": "707a1086",
   "metadata": {},
   "source": [
    "5\n",
    "Harry\n",
    "37.21\n",
    "Berry\n",
    "37.21\n",
    "Tina\n",
    "37.2\n",
    "Akriti\n",
    "41\n",
    "Harsh\n",
    "39"
   ]
  },
  {
   "cell_type": "code",
   "execution_count": null,
   "id": "9528835b",
   "metadata": {},
   "outputs": [],
   "source": [
    "marksheet = []\n",
    "for _ in range(0,int(input())):\n",
    "    marksheet.append([input(), float(input())])\n",
    "\n",
    "second_highest = sorted(list(set([marks for name, marks in marksheet])))[1]\n",
    "print('\\n'.join([a for a,b in sorted(marksheet) if b == second_highest])\n",
    "      \n",
    "      \n",
    "n = int(input())\n",
    "marksheet = [[input(), float(input())] for _ in range(n)]"
   ]
  },
  {
   "cell_type": "code",
   "execution_count": null,
   "id": "0b32b185",
   "metadata": {},
   "outputs": [],
   "source": [
    "5\n",
    "Harry\n",
    "37.21\n",
    "Berry\n",
    "37.21\n",
    "Tina\n",
    "37.2\n",
    "Akriti\n",
    "41\n",
    "Harsh\n",
    "39"
   ]
  },
  {
   "cell_type": "code",
   "execution_count": null,
   "id": "104fe2cf",
   "metadata": {},
   "outputs": [],
   "source": [
    "n = int(input())\n",
    "\n",
    "marksheet = [[input(), float(input())] for i in range(n)]\n",
    "\n",
    "\n",
    "print(marksheet)"
   ]
  },
  {
   "cell_type": "code",
   "execution_count": 71,
   "id": "a3b0ffdb",
   "metadata": {},
   "outputs": [
    {
     "data": {
      "text/plain": [
       "[0.0, 0.0, 0.0, 0.0, 0.0]"
      ]
     },
     "execution_count": 71,
     "metadata": {},
     "output_type": "execute_result"
    }
   ],
   "source": [
    "[marks for name,marks in marksheet]"
   ]
  },
  {
   "cell_type": "code",
   "execution_count": 72,
   "id": "b596780a",
   "metadata": {},
   "outputs": [
    {
     "name": "stdout",
     "output_type": "stream",
     "text": [
      "0.0\n"
     ]
    }
   ],
   "source": [
    "second_lowest = sorted([marks for name,marks in marksheet])[1]\n",
    "print(second_lowest)"
   ]
  },
  {
   "cell_type": "code",
   "execution_count": 73,
   "id": "2d083416",
   "metadata": {},
   "outputs": [
    {
     "data": {
      "text/plain": [
       "['a', '2', 'b', '3', 'c']"
      ]
     },
     "execution_count": 73,
     "metadata": {},
     "output_type": "execute_result"
    }
   ],
   "source": [
    "[a for a, b in marksheet if b==second_lowest]"
   ]
  },
  {
   "cell_type": "code",
   "execution_count": null,
   "id": "345f73dc",
   "metadata": {},
   "outputs": [],
   "source": [
    "print('\\n'.join([a for a,b in sorted(marksheet) if b == second_lowest]))"
   ]
  },
  {
   "cell_type": "code",
   "execution_count": 64,
   "id": "398ba2ac",
   "metadata": {},
   "outputs": [
    {
     "name": "stdout",
     "output_type": "stream",
     "text": [
      "b\n",
      "c\n"
     ]
    }
   ],
   "source": [
    "for a,b in marksheet:\n",
    "    if b==second_lowest:\n",
    "        print(a)"
   ]
  },
  {
   "cell_type": "code",
   "execution_count": 2,
   "id": "4f8eb5a1",
   "metadata": {},
   "outputs": [],
   "source": [
    "#3\n",
    "#Krishna 67 68 69\n",
    "#Malika 52 56 60\n",
    "#Arjun 70 98 63\n",
    "#Malika\n",
    "#56.00"
   ]
  },
  {
   "cell_type": "code",
   "execution_count": 7,
   "id": "1bdf5be6",
   "metadata": {},
   "outputs": [],
   "source": [
    "a_dict = {'one':1}\n"
   ]
  },
  {
   "cell_type": "code",
   "execution_count": 8,
   "id": "10896d11",
   "metadata": {},
   "outputs": [
    {
     "data": {
      "text/plain": [
       "{'one': 1}"
      ]
     },
     "execution_count": 8,
     "metadata": {},
     "output_type": "execute_result"
    }
   ],
   "source": [
    "a_dict"
   ]
  },
  {
   "cell_type": "code",
   "execution_count": 11,
   "id": "4d910b5c",
   "metadata": {},
   "outputs": [],
   "source": [
    "a_dict[\"two\"]=2"
   ]
  },
  {
   "cell_type": "code",
   "execution_count": 12,
   "id": "d359a2bb",
   "metadata": {},
   "outputs": [
    {
     "data": {
      "text/plain": [
       "{'one': 1, 'two': 2}"
      ]
     },
     "execution_count": 12,
     "metadata": {},
     "output_type": "execute_result"
    }
   ],
   "source": [
    "a_dict"
   ]
  },
  {
   "cell_type": "code",
   "execution_count": 13,
   "id": "2f69a8c4",
   "metadata": {},
   "outputs": [
    {
     "data": {
      "text/plain": [
       "{0, 1, 2, 3, 4}"
      ]
     },
     "execution_count": 13,
     "metadata": {},
     "output_type": "execute_result"
    }
   ],
   "source": [
    "{i for i in range(5)}"
   ]
  },
  {
   "cell_type": "code",
   "execution_count": 2,
   "id": "a6a56811",
   "metadata": {},
   "outputs": [
    {
     "name": "stdout",
     "output_type": "stream",
     "text": [
      "3\n",
      "Krishna 67 68 69\n",
      "Malika 52 56 60\n",
      "Arjun 70 98 63\n",
      "Arjun\n"
     ]
    }
   ],
   "source": [
    "if __name__ == '__main__':\n",
    "    n = int(input())\n",
    "    student_marks = {}\n",
    "    for i in range(n):\n",
    "        name, *line = input().split()\n",
    "        scores = list(map(float, line))\n",
    "        student_marks[name] = scores\n",
    "    query_name = input()"
   ]
  },
  {
   "cell_type": "code",
   "execution_count": null,
   "id": "5929e1db",
   "metadata": {},
   "outputs": [],
   "source": [
    "a = int(input())\n",
    "\n",
    "student_mark ={}\n",
    "\n",
    "for i in range(n):\n",
    "    name, line = input().split()\n",
    "    scores = list(map(float, line))"
   ]
  },
  {
   "cell_type": "code",
   "execution_count": 15,
   "id": "7630823f",
   "metadata": {},
   "outputs": [
    {
     "name": "stdout",
     "output_type": "stream",
     "text": [
      "3\n",
      "Arjun 70 98 63\n",
      "Malika 52 56 60\n",
      "Krishna 67 68 69\n",
      "Arjun\n",
      "77.0\n"
     ]
    }
   ],
   "source": [
    "n = int(input())\n",
    "my_dict = {}\n",
    "\n",
    "for i in range(n):\n",
    "    info = input().split(\" \")\n",
    "    score = list(map(float ,info[1:]))\n",
    "    my_dict[info[0]] = sum(score)/float(len(score))\n",
    "\n",
    "print(my_dict[input()])"
   ]
  },
  {
   "cell_type": "code",
   "execution_count": 16,
   "id": "360faa7a",
   "metadata": {},
   "outputs": [
    {
     "data": {
      "text/plain": [
       "{'Arjun': 77.0, 'Malika': 56.0, 'Krishna': 68.0}"
      ]
     },
     "execution_count": 16,
     "metadata": {},
     "output_type": "execute_result"
    }
   ],
   "source": [
    "my_dict"
   ]
  },
  {
   "cell_type": "markdown",
   "id": "accd19a7",
   "metadata": {},
   "source": [
    "insert i e: Insert integer  at position .\n",
    "print: Print the list.\n",
    "remove e: Delete the first occurrence of integer .\n",
    "append e: Insert integer  at the end of the list.\n",
    "sort: Sort the list.\n",
    "pop: Pop the last element from the list.\n",
    "reverse: Reverse the list."
   ]
  },
  {
   "cell_type": "code",
   "execution_count": null,
   "id": "2e35e68b",
   "metadata": {},
   "outputs": [],
   "source": [
    "n = int(input())\n",
    "l=[]\n",
    "\n",
    "for i in range(len(n)):\n",
    "    a = input().split()\n",
    "    b = a[0]"
   ]
  },
  {
   "cell_type": "code",
   "execution_count": 17,
   "id": "ceb5e18e",
   "metadata": {},
   "outputs": [
    {
     "data": {
      "text/plain": [
       "1"
      ]
     },
     "execution_count": 17,
     "metadata": {},
     "output_type": "execute_result"
    }
   ],
   "source": [
    "a = [1,2,3,4]\n",
    "a[0]"
   ]
  },
  {
   "cell_type": "code",
   "execution_count": 18,
   "id": "2ca4fd4f",
   "metadata": {},
   "outputs": [
    {
     "data": {
      "text/plain": [
       "[2, 3, 4]"
      ]
     },
     "execution_count": 18,
     "metadata": {},
     "output_type": "execute_result"
    }
   ],
   "source": [
    "a[1:]"
   ]
  },
  {
   "cell_type": "code",
   "execution_count": 1,
   "id": "dd50867a",
   "metadata": {},
   "outputs": [
    {
     "name": "stdout",
     "output_type": "stream",
     "text": [
      "1\n",
      "1 2\n",
      "-3550055125485641917\n"
     ]
    }
   ],
   "source": [
    "N = int(input())\n",
    "l = map(int, input().split())\n",
    "print(hash(tuple(l)))"
   ]
  },
  {
   "cell_type": "code",
   "execution_count": 4,
   "id": "10a66f9e",
   "metadata": {},
   "outputs": [
    {
     "name": "stdout",
     "output_type": "stream",
     "text": [
      "[]\n"
     ]
    }
   ],
   "source": [
    "print(list(l))"
   ]
  },
  {
   "cell_type": "code",
   "execution_count": 5,
   "id": "a95383f8",
   "metadata": {},
   "outputs": [
    {
     "name": "stdout",
     "output_type": "stream",
     "text": [
      "1 2 3 4 5\n"
     ]
    }
   ],
   "source": [
    "a = map(int, input().split())"
   ]
  },
  {
   "cell_type": "code",
   "execution_count": 9,
   "id": "0e306bd0",
   "metadata": {},
   "outputs": [
    {
     "name": "stdout",
     "output_type": "stream",
     "text": [
      "5740354900026072187\n"
     ]
    }
   ],
   "source": [
    "print(hash(tuple(a)))"
   ]
  },
  {
   "cell_type": "code",
   "execution_count": null,
   "id": "171231e2",
   "metadata": {},
   "outputs": [],
   "source": [
    "HackerRank.com presents \"Pythonist 2\".\n",
    "\n",
    "hACKERrANK.COM PRESENTS \"pYTHONIST 2\"."
   ]
  },
  {
   "cell_type": "code",
   "execution_count": null,
   "id": "9d1df87e",
   "metadata": {},
   "outputs": [],
   "source": [
    "def swap_case(s):\n",
    "    return\n",
    "\n",
    "if __name__ == '__main__':\n",
    "    s = raw_input()\n",
    "    result = swap_case(s)\n",
    "    print result"
   ]
  },
  {
   "cell_type": "code",
   "execution_count": 10,
   "id": "888c794d",
   "metadata": {},
   "outputs": [
    {
     "name": "stdout",
     "output_type": "stream",
     "text": [
      "hACKERrANK.COM PRESENTS \"pYTHONIST 2\"\n"
     ]
    }
   ],
   "source": [
    "n = input()"
   ]
  },
  {
   "cell_type": "code",
   "execution_count": 11,
   "id": "6fa64c87",
   "metadata": {},
   "outputs": [
    {
     "data": {
      "text/plain": [
       "'hACKERrANK.COM PRESENTS \"pYTHONIST 2\"'"
      ]
     },
     "execution_count": 11,
     "metadata": {},
     "output_type": "execute_result"
    }
   ],
   "source": [
    "n"
   ]
  },
  {
   "cell_type": "code",
   "execution_count": 12,
   "id": "32a71078",
   "metadata": {},
   "outputs": [
    {
     "data": {
      "text/plain": [
       "'HackerRank.com presents \"Pythonist 2\"'"
      ]
     },
     "execution_count": 12,
     "metadata": {},
     "output_type": "execute_result"
    }
   ],
   "source": [
    "n.swapcase()"
   ]
  },
  {
   "cell_type": "code",
   "execution_count": 13,
   "id": "9e9dee86",
   "metadata": {},
   "outputs": [],
   "source": [
    "a = \"PythON\""
   ]
  },
  {
   "cell_type": "code",
   "execution_count": 14,
   "id": "e0520c95",
   "metadata": {},
   "outputs": [
    {
     "data": {
      "text/plain": [
       "'pYTHon'"
      ]
     },
     "execution_count": 14,
     "metadata": {},
     "output_type": "execute_result"
    }
   ],
   "source": [
    "a.swapcase()"
   ]
  },
  {
   "cell_type": "code",
   "execution_count": 15,
   "id": "99c4c89a",
   "metadata": {},
   "outputs": [
    {
     "data": {
      "text/plain": [
       "'HackerRank.com presents \"Pythonist 2\"'"
      ]
     },
     "execution_count": 15,
     "metadata": {},
     "output_type": "execute_result"
    }
   ],
   "source": [
    "n.swapcase()"
   ]
  },
  {
   "cell_type": "code",
   "execution_count": null,
   "id": "ae5a474e",
   "metadata": {},
   "outputs": [],
   "source": [
    ">>> a = \"this is a string\"\n",
    ">>> a = a.split(\" \") # a is converted to a list of strings. \n",
    ">>> print a\n",
    "['this', 'is', 'a', 'string']"
   ]
  },
  {
   "cell_type": "code",
   "execution_count": null,
   "id": "1b2ace6d",
   "metadata": {},
   "outputs": [],
   "source": [
    ">>> a = \"-\".join(a)\n",
    ">>> print a\n",
    "this-is-a-string "
   ]
  },
  {
   "cell_type": "code",
   "execution_count": 50,
   "id": "f7dfb7b9",
   "metadata": {},
   "outputs": [
    {
     "name": "stdout",
     "output_type": "stream",
     "text": [
      "ftgyh dfghbnjm\n",
      "ftgyh-dfghbnjm\n"
     ]
    }
   ],
   "source": [
    "def split_and_join(line):\n",
    "    line = line.split(\" \")\n",
    "    line = \"-\".join(line)\n",
    "    return line\n",
    "\n",
    "if __name__ == '__main__':\n",
    "    line = input()\n",
    "    result = split_and_join(line)\n",
    "    print(result)"
   ]
  },
  {
   "cell_type": "code",
   "execution_count": 23,
   "id": "63ba81d0",
   "metadata": {},
   "outputs": [
    {
     "name": "stdout",
     "output_type": "stream",
     "text": [
      "this is python\n"
     ]
    }
   ],
   "source": [
    "l = input()"
   ]
  },
  {
   "cell_type": "code",
   "execution_count": 29,
   "id": "7af46ec8",
   "metadata": {},
   "outputs": [
    {
     "data": {
      "text/plain": [
       "['this', 'is', 'python']"
      ]
     },
     "execution_count": 29,
     "metadata": {},
     "output_type": "execute_result"
    }
   ],
   "source": [
    "l.split(\" \")"
   ]
  },
  {
   "cell_type": "code",
   "execution_count": 30,
   "id": "ad2b5c4e",
   "metadata": {},
   "outputs": [
    {
     "data": {
      "text/plain": [
       "'this is python'"
      ]
     },
     "execution_count": 30,
     "metadata": {},
     "output_type": "execute_result"
    }
   ],
   "source": [
    "l"
   ]
  },
  {
   "cell_type": "code",
   "execution_count": 42,
   "id": "48aacc0a",
   "metadata": {},
   "outputs": [],
   "source": [
    "l = \"-\".join(l)"
   ]
  },
  {
   "cell_type": "code",
   "execution_count": 43,
   "id": "e6d3ec71",
   "metadata": {},
   "outputs": [
    {
     "data": {
      "text/plain": [
       "'t-h-i-s- -i-s- -p-y-t-h-o-n'"
      ]
     },
     "execution_count": 43,
     "metadata": {},
     "output_type": "execute_result"
    }
   ],
   "source": [
    "l"
   ]
  },
  {
   "cell_type": "code",
   "execution_count": 35,
   "id": "f05c4dbd",
   "metadata": {},
   "outputs": [],
   "source": [
    "a = \"this is a string\""
   ]
  },
  {
   "cell_type": "code",
   "execution_count": 36,
   "id": "55e4959a",
   "metadata": {},
   "outputs": [],
   "source": [
    "a = a.split(\" \")"
   ]
  },
  {
   "cell_type": "code",
   "execution_count": 37,
   "id": "4e3cbf93",
   "metadata": {},
   "outputs": [
    {
     "data": {
      "text/plain": [
       "['this', 'is', 'a', 'string']"
      ]
     },
     "execution_count": 37,
     "metadata": {},
     "output_type": "execute_result"
    }
   ],
   "source": [
    "a"
   ]
  },
  {
   "cell_type": "code",
   "execution_count": 38,
   "id": "ee89d5e1",
   "metadata": {},
   "outputs": [],
   "source": [
    "a = \"-\".join(a)"
   ]
  },
  {
   "cell_type": "code",
   "execution_count": 39,
   "id": "676debce",
   "metadata": {},
   "outputs": [
    {
     "data": {
      "text/plain": [
       "'this-is-a-string'"
      ]
     },
     "execution_count": 39,
     "metadata": {},
     "output_type": "execute_result"
    }
   ],
   "source": [
    "a"
   ]
  },
  {
   "cell_type": "code",
   "execution_count": 48,
   "id": "11c7e1cd",
   "metadata": {},
   "outputs": [
    {
     "name": "stdout",
     "output_type": "stream",
     "text": [
      "dfghj ersrtdyguhjk\n"
     ]
    },
    {
     "data": {
      "text/plain": [
       "'dfghj-ersrtdyguhjk'"
      ]
     },
     "execution_count": 48,
     "metadata": {},
     "output_type": "execute_result"
    }
   ],
   "source": [
    "a =input()\n",
    "a = a.split()\n",
    "a = \"-\".join(a)\n",
    "a"
   ]
  },
  {
   "cell_type": "code",
   "execution_count": null,
   "id": "7ed00779",
   "metadata": {},
   "outputs": [],
   "source": [
    "abracadabra     s = 'abracadabra'\n",
    "5 k             position = 5, character = 'k'\n"
   ]
  },
  {
   "cell_type": "code",
   "execution_count": null,
   "id": "0f18972a",
   "metadata": {},
   "outputs": [],
   "source": [
    "abrackdabra"
   ]
  },
  {
   "cell_type": "code",
   "execution_count": null,
   "id": "190c340a",
   "metadata": {},
   "outputs": [],
   "source": [
    "def mutate_string(string, position, character):\n",
    "    return\n",
    "\n",
    "if __name__ == '__main__':\n",
    "    s = input()\n",
    "    i, c = input().split()\n",
    "    s_new = mutate_string(s, int(i), c)\n",
    "    print(s_new)"
   ]
  },
  {
   "cell_type": "code",
   "execution_count": 52,
   "id": "76868dc3",
   "metadata": {},
   "outputs": [
    {
     "name": "stdout",
     "output_type": "stream",
     "text": [
      "abcdscdcdcs\n",
      "cd\n",
      "3\n"
     ]
    }
   ],
   "source": [
    "def count_substring(string, sub_string):\n",
    "    count = 0\n",
    "    for i in range(len(string)):\n",
    "        if string[i:].startswith(sub_string):\n",
    "            count += 1\n",
    "    return count\n",
    "\n",
    "if __name__ == '__main__':\n",
    "    string = input().strip()\n",
    "    sub_string = input().strip()\n",
    "    \n",
    "    count = count_substring(string, sub_string)\n",
    "    print(count)"
   ]
  },
  {
   "cell_type": "code",
   "execution_count": 64,
   "id": "4ad71ce0",
   "metadata": {},
   "outputs": [
    {
     "name": "stdout",
     "output_type": "stream",
     "text": [
      "weruhwflflicdijhgicsiwijrfpiwcdnrihglincd\n",
      "cd\n",
      "3\n"
     ]
    }
   ],
   "source": [
    "def count_substring(string, sub_string):\n",
    "    count = 0\n",
    "    for i in range(len(string)):\n",
    "        if string[i:].startswith(sub_string):\n",
    "            count = count+1\n",
    "    return count\n",
    "\n",
    "if __name__ == '__main__':\n",
    "    string = input().strip()\n",
    "    sub_string = input().strip()\n",
    "    \n",
    "    count = count_substring(string, sub_string)\n",
    "    print(count)"
   ]
  },
  {
   "cell_type": "code",
   "execution_count": 67,
   "id": "188d7610",
   "metadata": {},
   "outputs": [
    {
     "name": "stdout",
     "output_type": "stream",
     "text": [
      "qA2\n"
     ]
    }
   ],
   "source": [
    "a = input()"
   ]
  },
  {
   "cell_type": "code",
   "execution_count": 71,
   "id": "675f8d61",
   "metadata": {},
   "outputs": [
    {
     "data": {
      "text/plain": [
       "True"
      ]
     },
     "execution_count": 71,
     "metadata": {},
     "output_type": "execute_result"
    }
   ],
   "source": [
    "any([i.islower() for i in a])"
   ]
  },
  {
   "cell_type": "code",
   "execution_count": 73,
   "id": "8ba0389c",
   "metadata": {},
   "outputs": [
    {
     "name": "stdout",
     "output_type": "stream",
     "text": [
      "[2, 4, 6]\n"
     ]
    }
   ],
   "source": [
    "a = [1,2,3]\n",
    "b = [1,2,3]\n",
    "c = []\n",
    "\n",
    "for i in range(len(a)):\n",
    "    c.append(a[i]+b[i])\n",
    "\n",
    "print(c)"
   ]
  },
  {
   "cell_type": "code",
   "execution_count": 75,
   "id": "37b6d6e5",
   "metadata": {},
   "outputs": [
    {
     "name": "stdout",
     "output_type": "stream",
     "text": [
      "ABCDEFGHIJKLIMNOQRSTUVWXYZ\n",
      "4\n",
      "ABCD\n",
      "EFGH\n",
      "IJKL\n",
      "IMNO\n",
      "QRST\n",
      "UVWX\n",
      "YZ\n"
     ]
    }
   ],
   "source": [
    "import textwrap\n",
    "\n",
    "def wrap(string, max_width):\n",
    "    return textwrap.fill(string, max_width)\n",
    "\n",
    "if __name__ == '__main__':\n",
    "    string, max_width = input(), int(input())\n",
    "    result = wrap(string, max_width)\n",
    "    print(result)"
   ]
  },
  {
   "cell_type": "code",
   "execution_count": 78,
   "id": "87a0cb2e",
   "metadata": {},
   "outputs": [
    {
     "name": "stdout",
     "output_type": "stream",
     "text": [
      "9 27\n",
      "------------.|.------------\n",
      "---------.|..|..|.---------\n",
      "------.|..|..|..|..|.------\n",
      "---.|..|..|..|..|..|..|.---\n",
      "----------WELCOME----------\n",
      "---.|..|..|..|..|..|..|.---\n",
      "------.|..|..|..|..|.------\n",
      "---------.|..|..|.---------\n",
      "------------.|.------------\n"
     ]
    }
   ],
   "source": [
    "n, m = map(int,input().split())\n",
    "pattern = [('.|.'*(2*i + 1)).center(m, '-') for i in range(n//2)]\n",
    "print('\\n'.join(pattern + ['WELCOME'.center(m, '-')] + pattern[::-1]))"
   ]
  },
  {
   "cell_type": "code",
   "execution_count": 79,
   "id": "2a74d1a6",
   "metadata": {},
   "outputs": [
    {
     "data": {
      "text/plain": [
       "['------------.|.------------',\n",
       " '---------.|..|..|.---------',\n",
       " '------.|..|..|..|..|.------',\n",
       " '---.|..|..|..|..|..|..|.---']"
      ]
     },
     "execution_count": 79,
     "metadata": {},
     "output_type": "execute_result"
    }
   ],
   "source": [
    "pattern"
   ]
  },
  {
   "cell_type": "code",
   "execution_count": 83,
   "id": "70cf988c",
   "metadata": {},
   "outputs": [
    {
     "data": {
      "text/plain": [
       "4"
      ]
     },
     "execution_count": 83,
     "metadata": {},
     "output_type": "execute_result"
    }
   ],
   "source": [
    "n//2"
   ]
  },
  {
   "cell_type": "code",
   "execution_count": 110,
   "id": "44b2dfc3",
   "metadata": {},
   "outputs": [
    {
     "data": {
      "text/plain": [
       "[0, 1, 2, 3]"
      ]
     },
     "execution_count": 110,
     "metadata": {},
     "output_type": "execute_result"
    }
   ],
   "source": [
    "[i for i in range(n//2)]"
   ]
  },
  {
   "cell_type": "code",
   "execution_count": 96,
   "id": "11768475",
   "metadata": {},
   "outputs": [
    {
     "data": {
      "text/plain": [
       "2"
      ]
     },
     "execution_count": 96,
     "metadata": {},
     "output_type": "execute_result"
    }
   ],
   "source": [
    "i"
   ]
  },
  {
   "cell_type": "code",
   "execution_count": 107,
   "id": "4e270eb4",
   "metadata": {},
   "outputs": [
    {
     "data": {
      "text/plain": [
       "['------------.|.------------',\n",
       " '---------.|..|..|.---------',\n",
       " '------.|..|..|..|..|.------',\n",
       " '---.|..|..|..|..|..|..|.---']"
      ]
     },
     "execution_count": 107,
     "metadata": {},
     "output_type": "execute_result"
    }
   ],
   "source": [
    "[('.|.'*(2*i + 1)).center(m,\"-\") for i in range(n//2)]"
   ]
  },
  {
   "cell_type": "code",
   "execution_count": null,
   "id": "b78ce7ff",
   "metadata": {},
   "outputs": [],
   "source": [
    "def print_formatted(number):\n",
    "    # your code goes here\n",
    "\n",
    "if __name__ == '__main__':\n",
    "    n = int(input())\n",
    "    print_formatted(n)"
   ]
  },
  {
   "cell_type": "code",
   "execution_count": 9,
   "id": "52049c57",
   "metadata": {},
   "outputs": [
    {
     "name": "stdout",
     "output_type": "stream",
     "text": [
      "5\n",
      "0\n",
      "1\n",
      "2\n",
      "3\n",
      "4\n"
     ]
    }
   ],
   "source": [
    "a = int(input())\n",
    "\n",
    "for i in range(a):\n",
    "    print(str(oct(i)[2:]))"
   ]
  },
  {
   "cell_type": "code",
   "execution_count": 22,
   "id": "6b8d90cd",
   "metadata": {},
   "outputs": [
    {
     "name": "stdout",
     "output_type": "stream",
     "text": [
      "15\n"
     ]
    }
   ],
   "source": [
    "n = int(input())\n",
    "width = len(\"{0:b}\".format(n))"
   ]
  },
  {
   "cell_type": "code",
   "execution_count": 29,
   "id": "2ce95179",
   "metadata": {},
   "outputs": [
    {
     "name": "stdout",
     "output_type": "stream",
     "text": [
      "15\n",
      "   1    1    1    1\n",
      "   2    2    2   10\n",
      "   3    3    3   11\n",
      "   4    4    4  100\n",
      "   5    5    5  101\n",
      "   6    6    6  110\n",
      "   7    7    7  111\n",
      "   8   10    8 1000\n",
      "   9   11    9 1001\n",
      "  10   12    A 1010\n",
      "  11   13    B 1011\n",
      "  12   14    C 1100\n",
      "  13   15    D 1101\n",
      "  14   16    E 1110\n",
      "  15   17    F 1111\n"
     ]
    }
   ],
   "source": [
    "n = int(input())\n",
    "width = len(\"{0:b}\".format(n))\n",
    "for i in range(1,n+1):\n",
    "    print (\"{0:{width}d} {0:{width}o} {0:{width}X} {0:{width}b}\".format(i, width=width))"
   ]
  },
  {
   "cell_type": "code",
   "execution_count": 31,
   "id": "1887f806",
   "metadata": {},
   "outputs": [
    {
     "data": {
      "text/plain": [
       "'1111'"
      ]
     },
     "execution_count": 31,
     "metadata": {},
     "output_type": "execute_result"
    }
   ],
   "source": [
    "\"{0:b}\".format(15)"
   ]
  },
  {
   "cell_type": "code",
   "execution_count": 35,
   "id": "5fc15afb",
   "metadata": {},
   "outputs": [
    {
     "data": {
      "text/plain": [
       "'0'"
      ]
     },
     "execution_count": 35,
     "metadata": {},
     "output_type": "execute_result"
    }
   ],
   "source": [
    "f'{0:b}'"
   ]
  },
  {
   "cell_type": "code",
   "execution_count": 37,
   "id": "141838e7",
   "metadata": {},
   "outputs": [
    {
     "name": "stdout",
     "output_type": "stream",
     "text": [
      "0o0\n",
      "0o1\n",
      "0o2\n",
      "0o3\n",
      "0o4\n",
      "0o5\n",
      "0o6\n",
      "0o7\n",
      "0o10\n",
      "0o11\n",
      "0o12\n",
      "0o13\n",
      "0o14\n",
      "0o15\n",
      "0o16\n"
     ]
    }
   ],
   "source": [
    "for i in range(15):\n",
    "    print(str(oct(i)))"
   ]
  },
  {
   "cell_type": "code",
   "execution_count": 68,
   "id": "d0c1fc92",
   "metadata": {},
   "outputs": [
    {
     "name": "stdout",
     "output_type": "stream",
     "text": [
      "17\n",
      "    1     1     1     1\n",
      "    2     2     2    10\n",
      "    3     3     3    11\n",
      "    4     4     4   100\n",
      "    5     5     5   101\n",
      "    6     6     6   110\n",
      "    7     7     7   111\n",
      "    8    10     8  1000\n",
      "    9    11     9  1001\n",
      "   10    12     A  1010\n",
      "   11    13     B  1011\n",
      "   12    14     C  1100\n",
      "   13    15     D  1101\n",
      "   14    16     E  1110\n",
      "   15    17     F  1111\n",
      "   16    20    10 10000\n",
      "   17    21    11 10001\n"
     ]
    }
   ],
   "source": [
    "n = int(input())\n",
    "width = len(\"{0:b}\".format(n))\n",
    "for i in range(1,n+1):\n",
    "    print (\"{0:{width}d} {0:{width}o} {0:{width}X} {0:{width}b}\".format(i, width=width))"
   ]
  },
  {
   "cell_type": "code",
   "execution_count": 82,
   "id": "e58f430e",
   "metadata": {},
   "outputs": [
    {
     "data": {
      "text/plain": [
       "' 110'"
      ]
     },
     "execution_count": 82,
     "metadata": {},
     "output_type": "execute_result"
    }
   ],
   "source": [
    "\"{0:{width}b}\".format(6, width=4)"
   ]
  },
  {
   "cell_type": "code",
   "execution_count": 77,
   "id": "4631331c",
   "metadata": {},
   "outputs": [
    {
     "data": {
      "text/plain": [
       "'0xf'"
      ]
     },
     "execution_count": 77,
     "metadata": {},
     "output_type": "execute_result"
    }
   ],
   "source": [
    "hex(15)"
   ]
  },
  {
   "cell_type": "code",
   "execution_count": 72,
   "id": "604a019b",
   "metadata": {},
   "outputs": [
    {
     "name": "stdout",
     "output_type": "stream",
     "text": [
      "   11\n"
     ]
    }
   ],
   "source": [
    "print(\"{0:{width}X}\".format(i, width=width))"
   ]
  },
  {
   "cell_type": "code",
   "execution_count": 79,
   "id": "46483788",
   "metadata": {},
   "outputs": [
    {
     "name": "stdout",
     "output_type": "stream",
     "text": [
      "10000\n"
     ]
    }
   ],
   "source": [
    "print (\"{0:{width}b}\".format(16, width=width))"
   ]
  },
  {
   "cell_type": "code",
   "execution_count": 64,
   "id": "2e0ac8db",
   "metadata": {},
   "outputs": [
    {
     "name": "stdout",
     "output_type": "stream",
     "text": [
      "  17\n"
     ]
    }
   ],
   "source": [
    "print(\"{0:4}\".format(i))"
   ]
  },
  {
   "cell_type": "code",
   "execution_count": 84,
   "id": "e66f6561",
   "metadata": {},
   "outputs": [
    {
     "name": "stdout",
     "output_type": "stream",
     "text": [
      "6\n",
      "----------f----------\n",
      "--------f-e-f--------\n",
      "------f-e-d-e-f------\n",
      "----f-e-d-c-d-e-f----\n",
      "--f-e-d-c-b-c-d-e-f--\n",
      "f-e-d-c-b-a-b-c-d-e-f\n",
      "--f-e-d-c-b-c-d-e-f--\n",
      "----f-e-d-c-d-e-f----\n",
      "------f-e-d-e-f------\n",
      "--------f-e-f--------\n",
      "----------f----------\n"
     ]
    }
   ],
   "source": [
    "import string\n",
    "alpha = string.ascii_lowercase\n",
    "\n",
    "n = int(input())\n",
    "L = []\n",
    "for i in range(n):\n",
    "    s = \"-\".join(alpha[i:n])\n",
    "    L.append((s[::-1]+s[1:]).center(4*n-3, \"-\"))\n",
    "print('\\n'.join(L[:0:-1]+L))"
   ]
  },
  {
   "cell_type": "code",
   "execution_count": 85,
   "id": "224bab65",
   "metadata": {},
   "outputs": [],
   "source": [
    "import string\n",
    "alpha = string.ascii_lowercase"
   ]
  },
  {
   "cell_type": "code",
   "execution_count": 86,
   "id": "aba82a8c",
   "metadata": {},
   "outputs": [
    {
     "data": {
      "text/plain": [
       "'abcdefghijklmnopqrstuvwxyz'"
      ]
     },
     "execution_count": 86,
     "metadata": {},
     "output_type": "execute_result"
    }
   ],
   "source": [
    "alpha"
   ]
  },
  {
   "cell_type": "code",
   "execution_count": 96,
   "id": "d7aa9ba9",
   "metadata": {},
   "outputs": [
    {
     "name": "stdout",
     "output_type": "stream",
     "text": [
      "5\n"
     ]
    }
   ],
   "source": [
    "n =int(input())\n",
    "L=[]"
   ]
  },
  {
   "cell_type": "code",
   "execution_count": 99,
   "id": "b4b92ee1",
   "metadata": {},
   "outputs": [
    {
     "name": "stdout",
     "output_type": "stream",
     "text": [
      "e-d-c-b-a\n",
      "e-d-c-b\n",
      "e-d-c\n",
      "e-d\n",
      "e\n"
     ]
    }
   ],
   "source": [
    "for i in range(n):\n",
    "    s = \"-\".join(alpha[i:n])\n",
    "    #L.append((s[::-1]+s[1:]).center(4*n-3, \"-\"))\n",
    "    print(s[::-1])"
   ]
  },
  {
   "cell_type": "code",
   "execution_count": 98,
   "id": "df0dc9b6",
   "metadata": {},
   "outputs": [
    {
     "data": {
      "text/plain": [
       "'e'"
      ]
     },
     "execution_count": 98,
     "metadata": {},
     "output_type": "execute_result"
    }
   ],
   "source": [
    "s[::-1]"
   ]
  },
  {
   "cell_type": "code",
   "execution_count": 101,
   "id": "f965b49c",
   "metadata": {},
   "outputs": [
    {
     "name": "stdout",
     "output_type": "stream",
     "text": [
      "15\n",
      "----------------------------o----------------------------\n",
      "--------------------------o-n-o--------------------------\n",
      "------------------------o-n-m-n-o------------------------\n",
      "----------------------o-n-m-l-m-n-o----------------------\n",
      "--------------------o-n-m-l-k-l-m-n-o--------------------\n",
      "------------------o-n-m-l-k-j-k-l-m-n-o------------------\n",
      "----------------o-n-m-l-k-j-i-j-k-l-m-n-o----------------\n",
      "--------------o-n-m-l-k-j-i-h-i-j-k-l-m-n-o--------------\n",
      "------------o-n-m-l-k-j-i-h-g-h-i-j-k-l-m-n-o------------\n",
      "----------o-n-m-l-k-j-i-h-g-f-g-h-i-j-k-l-m-n-o----------\n",
      "--------o-n-m-l-k-j-i-h-g-f-e-f-g-h-i-j-k-l-m-n-o--------\n",
      "------o-n-m-l-k-j-i-h-g-f-e-d-e-f-g-h-i-j-k-l-m-n-o------\n",
      "----o-n-m-l-k-j-i-h-g-f-e-d-c-d-e-f-g-h-i-j-k-l-m-n-o----\n",
      "--o-n-m-l-k-j-i-h-g-f-e-d-c-b-c-d-e-f-g-h-i-j-k-l-m-n-o--\n",
      "o-n-m-l-k-j-i-h-g-f-e-d-c-b-a-b-c-d-e-f-g-h-i-j-k-l-m-n-o\n",
      "--o-n-m-l-k-j-i-h-g-f-e-d-c-b-c-d-e-f-g-h-i-j-k-l-m-n-o--\n",
      "----o-n-m-l-k-j-i-h-g-f-e-d-c-d-e-f-g-h-i-j-k-l-m-n-o----\n",
      "------o-n-m-l-k-j-i-h-g-f-e-d-e-f-g-h-i-j-k-l-m-n-o------\n",
      "--------o-n-m-l-k-j-i-h-g-f-e-f-g-h-i-j-k-l-m-n-o--------\n",
      "----------o-n-m-l-k-j-i-h-g-f-g-h-i-j-k-l-m-n-o----------\n",
      "------------o-n-m-l-k-j-i-h-g-h-i-j-k-l-m-n-o------------\n",
      "--------------o-n-m-l-k-j-i-h-i-j-k-l-m-n-o--------------\n",
      "----------------o-n-m-l-k-j-i-j-k-l-m-n-o----------------\n",
      "------------------o-n-m-l-k-j-k-l-m-n-o------------------\n",
      "--------------------o-n-m-l-k-l-m-n-o--------------------\n",
      "----------------------o-n-m-l-m-n-o----------------------\n",
      "------------------------o-n-m-n-o------------------------\n",
      "--------------------------o-n-o--------------------------\n",
      "----------------------------o----------------------------\n"
     ]
    }
   ],
   "source": [
    "import string\n",
    "alpha = string.ascii_lowercase\n",
    "\n",
    "def print_rangoli(n):\n",
    "    L = []\n",
    "    for i in range(n):\n",
    "        s = \"-\".join(alpha[i:n])\n",
    "        L.append((s[::-1]+s[1:]).center(4*n-3, \"-\"))\n",
    "    print('\\n'.join(L[:0:-1]+L))\n",
    "if __name__ == '__main__':\n",
    "    n = int(input())\n",
    "    print_rangoli(n)"
   ]
  },
  {
   "cell_type": "code",
   "execution_count": 2,
   "id": "8ca9df47",
   "metadata": {},
   "outputs": [],
   "source": [
    "a = \"mukesh raj\""
   ]
  },
  {
   "cell_type": "code",
   "execution_count": 6,
   "id": "b49cd205",
   "metadata": {},
   "outputs": [
    {
     "data": {
      "text/plain": [
       "False"
      ]
     },
     "execution_count": 6,
     "metadata": {},
     "output_type": "execute_result"
    }
   ],
   "source": [
    "a.startswith(a.capitalize())"
   ]
  },
  {
   "cell_type": "code",
   "execution_count": 8,
   "id": "ad0f4f57",
   "metadata": {},
   "outputs": [
    {
     "name": "stdout",
     "output_type": "stream",
     "text": [
      "mukesh raj\n"
     ]
    }
   ],
   "source": [
    "a = input().split()\n"
   ]
  },
  {
   "cell_type": "code",
   "execution_count": 9,
   "id": "709705e9",
   "metadata": {},
   "outputs": [
    {
     "data": {
      "text/plain": [
       "['mukesh', 'raj']"
      ]
     },
     "execution_count": 9,
     "metadata": {},
     "output_type": "execute_result"
    }
   ],
   "source": [
    "a"
   ]
  },
  {
   "cell_type": "code",
   "execution_count": 20,
   "id": "26e1755a",
   "metadata": {},
   "outputs": [],
   "source": [
    "b =[i.capitalize() for i in a]"
   ]
  },
  {
   "cell_type": "code",
   "execution_count": 21,
   "id": "d0f9117b",
   "metadata": {},
   "outputs": [
    {
     "data": {
      "text/plain": [
       "['Mukesh', 'Raj']"
      ]
     },
     "execution_count": 21,
     "metadata": {},
     "output_type": "execute_result"
    }
   ],
   "source": [
    "b"
   ]
  },
  {
   "cell_type": "code",
   "execution_count": 24,
   "id": "62e8dcdd",
   "metadata": {},
   "outputs": [
    {
     "data": {
      "text/plain": [
       "['Mukesh', 'Raj']"
      ]
     },
     "execution_count": 24,
     "metadata": {},
     "output_type": "execute_result"
    }
   ],
   "source": [
    "b"
   ]
  },
  {
   "cell_type": "code",
   "execution_count": 39,
   "id": "eec4ebe6",
   "metadata": {},
   "outputs": [
    {
     "name": "stdout",
     "output_type": "stream",
     "text": [
      "Mukesh Raj "
     ]
    }
   ],
   "source": [
    "for i in a:\n",
    "    b = i.capitalize()\n",
    "    print(b.rstrip(), end=\" \")\n",
    "    #print(i.capitalize(), end=\" \")"
   ]
  },
  {
   "cell_type": "code",
   "execution_count": 18,
   "id": "cb90349b",
   "metadata": {},
   "outputs": [
    {
     "data": {
      "text/plain": [
       "['Mukesh', 'Raj']"
      ]
     },
     "execution_count": 18,
     "metadata": {},
     "output_type": "execute_result"
    }
   ],
   "source": [
    "[i.capitalize() for i in a]"
   ]
  },
  {
   "cell_type": "code",
   "execution_count": 28,
   "id": "5b5f39e0",
   "metadata": {},
   "outputs": [],
   "source": [
    "c = \"Mukesh raj \""
   ]
  },
  {
   "cell_type": "code",
   "execution_count": 29,
   "id": "d7b578a7",
   "metadata": {},
   "outputs": [
    {
     "data": {
      "text/plain": [
       "'Mukesh raj '"
      ]
     },
     "execution_count": 29,
     "metadata": {},
     "output_type": "execute_result"
    }
   ],
   "source": [
    "c"
   ]
  },
  {
   "cell_type": "code",
   "execution_count": 30,
   "id": "d64b5fb2",
   "metadata": {},
   "outputs": [
    {
     "data": {
      "text/plain": [
       "'Mukesh raj'"
      ]
     },
     "execution_count": 30,
     "metadata": {},
     "output_type": "execute_result"
    }
   ],
   "source": [
    "c.rstrip()"
   ]
  },
  {
   "cell_type": "code",
   "execution_count": 41,
   "id": "ae6f30ca",
   "metadata": {},
   "outputs": [
    {
     "name": "stdout",
     "output_type": "stream",
     "text": [
      "mukesh raj\n",
      "Mukesh Raj "
     ]
    }
   ],
   "source": [
    "\n",
    "# Complete the solve function below.\n",
    "def solve(s):\n",
    "    a = s.split()\n",
    "    for i in a:\n",
    "        b = i.capitalize()\n",
    "        print(b.rstrip(), end=\" \")\n",
    "\n",
    "if __name__ == '__main__':\n",
    "\n",
    "    s = input()\n",
    "\n",
    "    result = solve(s)\n"
   ]
  },
  {
   "cell_type": "code",
   "execution_count": 70,
   "id": "18f03c09",
   "metadata": {},
   "outputs": [
    {
     "name": "stdout",
     "output_type": "stream",
     "text": [
      "mukesh raj\n",
      "Mukesh Raj\n"
     ]
    }
   ],
   "source": [
    "s = input()\n",
    "\n",
    "\n",
    "for x in s[:].split():\n",
    "    s = s.replace(x, x.capitalize())\n",
    "print(s)"
   ]
  },
  {
   "cell_type": "code",
   "execution_count": 71,
   "id": "81df5b47",
   "metadata": {},
   "outputs": [],
   "source": [
    "a = \"lokesh raj\""
   ]
  },
  {
   "cell_type": "code",
   "execution_count": 72,
   "id": "2fde5873",
   "metadata": {},
   "outputs": [
    {
     "data": {
      "text/plain": [
       "['lokesh', 'raj']"
      ]
     },
     "execution_count": 72,
     "metadata": {},
     "output_type": "execute_result"
    }
   ],
   "source": [
    "a[:].split()"
   ]
  },
  {
   "cell_type": "code",
   "execution_count": 73,
   "id": "70c2341d",
   "metadata": {},
   "outputs": [
    {
     "data": {
      "text/plain": [
       "'Mukesh Raj'"
      ]
     },
     "execution_count": 73,
     "metadata": {},
     "output_type": "execute_result"
    }
   ],
   "source": [
    "s.replace(a, a.capitalize())"
   ]
  },
  {
   "cell_type": "code",
   "execution_count": 79,
   "id": "4aab6df6",
   "metadata": {},
   "outputs": [
    {
     "name": "stdout",
     "output_type": "stream",
     "text": [
      "Lokesh Raj "
     ]
    }
   ],
   "source": [
    "for i in a[:].split():\n",
    "    print((i.capitalize()).rstrip(), end=\" \")"
   ]
  },
  {
   "cell_type": "code",
   "execution_count": 80,
   "id": "5bd28498",
   "metadata": {},
   "outputs": [
    {
     "name": "stdout",
     "output_type": "stream",
     "text": [
      "8.0\n",
      "8.0\n",
      "HackerRank  is the best place to learn and practice coding!\n"
     ]
    }
   ],
   "source": [
    "i = 4\n",
    "d = 4.0\n",
    "s = 'HackerRank '\n",
    "\n",
    "print(i+d)\n",
    "print(2*d)\n",
    "print(f'{s} is the best place to learn and practice coding!')"
   ]
  },
  {
   "cell_type": "code",
   "execution_count": 81,
   "id": "f820b318",
   "metadata": {},
   "outputs": [],
   "source": [
    "a =4\n",
    "b =3"
   ]
  },
  {
   "cell_type": "code",
   "execution_count": 82,
   "id": "bf9bd738",
   "metadata": {},
   "outputs": [
    {
     "data": {
      "text/plain": [
       "1.33333333333"
      ]
     },
     "execution_count": 82,
     "metadata": {},
     "output_type": "execute_result"
    }
   ],
   "source": [
    "1\n",
    "1.33333333333"
   ]
  },
  {
   "cell_type": "code",
   "execution_count": 83,
   "id": "82ecbe80",
   "metadata": {},
   "outputs": [
    {
     "data": {
      "text/plain": [
       "1"
      ]
     },
     "execution_count": 83,
     "metadata": {},
     "output_type": "execute_result"
    }
   ],
   "source": [
    "a//b"
   ]
  },
  {
   "cell_type": "code",
   "execution_count": 86,
   "id": "a2607b6c",
   "metadata": {},
   "outputs": [
    {
     "data": {
      "text/plain": [
       "1.3333333333333333"
      ]
     },
     "execution_count": 86,
     "metadata": {},
     "output_type": "execute_result"
    }
   ],
   "source": [
    "c = a/b\n",
    "c"
   ]
  },
  {
   "cell_type": "code",
   "execution_count": 1,
   "id": "34c44fab",
   "metadata": {},
   "outputs": [
    {
     "data": {
      "text/plain": [
       "1.33333333333"
      ]
     },
     "execution_count": 1,
     "metadata": {},
     "output_type": "execute_result"
    }
   ],
   "source": [
    "1.33333333333"
   ]
  },
  {
   "cell_type": "code",
   "execution_count": 18,
   "id": "641c8252",
   "metadata": {},
   "outputs": [],
   "source": [
    "a = [1,2]\n",
    "b = [3,4]"
   ]
  },
  {
   "cell_type": "code",
   "execution_count": 19,
   "id": "198210cd",
   "metadata": {},
   "outputs": [],
   "source": [
    "from itertools import product"
   ]
  },
  {
   "cell_type": "code",
   "execution_count": 21,
   "id": "f4c4b552",
   "metadata": {},
   "outputs": [
    {
     "name": "stdout",
     "output_type": "stream",
     "text": [
      "[(1, 3), (1, 4), (2, 3), (2, 4)]\n"
     ]
    }
   ],
   "source": [
    "print(list(product(a,b)))"
   ]
  },
  {
   "cell_type": "code",
   "execution_count": 35,
   "id": "804ceb89",
   "metadata": {},
   "outputs": [
    {
     "name": "stdout",
     "output_type": "stream",
     "text": [
      "1 2\n",
      "3 4\n"
     ]
    }
   ],
   "source": [
    "a = list(map(int,input().split()))\n",
    "b = list(map(int,input().split()))"
   ]
  },
  {
   "cell_type": "code",
   "execution_count": 36,
   "id": "a5ea5988",
   "metadata": {},
   "outputs": [
    {
     "name": "stdout",
     "output_type": "stream",
     "text": [
      "[1, 2]\n"
     ]
    }
   ],
   "source": [
    "print(a)"
   ]
  },
  {
   "cell_type": "code",
   "execution_count": 37,
   "id": "08d6ffa0",
   "metadata": {},
   "outputs": [
    {
     "name": "stdout",
     "output_type": "stream",
     "text": [
      "[3, 4]\n"
     ]
    }
   ],
   "source": [
    "print(b)"
   ]
  },
  {
   "cell_type": "code",
   "execution_count": 41,
   "id": "dac17231",
   "metadata": {},
   "outputs": [
    {
     "name": "stdout",
     "output_type": "stream",
     "text": [
      "(1, 3) (1, 4) (2, 3) (2, 4)\n"
     ]
    }
   ],
   "source": [
    "print(*product(a,b))"
   ]
  },
  {
   "cell_type": "code",
   "execution_count": 40,
   "id": "085771a3",
   "metadata": {},
   "outputs": [
    {
     "name": "stdout",
     "output_type": "stream",
     "text": [
      "1 2\n",
      "3 4\n",
      "(1, 3) (1, 4) (2, 3) (2, 4)\n"
     ]
    }
   ],
   "source": [
    "from itertools import product\n",
    "\n",
    "a = list(map(int, input().split()))\n",
    "b = list(map(int, input().split()))\n",
    "\n",
    "print(*product(a, b))"
   ]
  },
  {
   "cell_type": "code",
   "execution_count": 82,
   "id": "4d3e5f8e",
   "metadata": {},
   "outputs": [
    {
     "name": "stdout",
     "output_type": "stream",
     "text": [
      "Counter({5: 2, 6: 2, 2: 1, 3: 1, 4: 1, 8: 1, 7: 1, 18: 1})\n"
     ]
    }
   ],
   "source": [
    "print(shoes)"
   ]
  },
  {
   "cell_type": "code",
   "execution_count": 1,
   "id": "fac0ac48",
   "metadata": {},
   "outputs": [],
   "source": [
    "a = \"i love to code in python because python is the easiest programming language. Python is the next superstar\""
   ]
  },
  {
   "cell_type": "code",
   "execution_count": 15,
   "id": "44266005",
   "metadata": {},
   "outputs": [
    {
     "data": {
      "text/plain": [
       "['i',\n",
       " 'love',\n",
       " 'to',\n",
       " 'code',\n",
       " 'in',\n",
       " 'python',\n",
       " 'because',\n",
       " 'python',\n",
       " 'is',\n",
       " 'the',\n",
       " 'easiest',\n",
       " 'programming',\n",
       " 'language.',\n",
       " 'Python',\n",
       " 'is',\n",
       " 'the',\n",
       " 'next',\n",
       " 'superstar']"
      ]
     },
     "execution_count": 15,
     "metadata": {},
     "output_type": "execute_result"
    }
   ],
   "source": [
    "b =a.split()\n",
    "b"
   ]
  },
  {
   "cell_type": "code",
   "execution_count": 16,
   "id": "24779625",
   "metadata": {},
   "outputs": [],
   "source": [
    "from collections import Counter"
   ]
  },
  {
   "cell_type": "code",
   "execution_count": 18,
   "id": "2e9f9ade",
   "metadata": {},
   "outputs": [
    {
     "data": {
      "text/plain": [
       "Counter({'i': 1,\n",
       "         'love': 1,\n",
       "         'to': 1,\n",
       "         'code': 1,\n",
       "         'in': 1,\n",
       "         'python': 2,\n",
       "         'because': 1,\n",
       "         'is': 2,\n",
       "         'the': 2,\n",
       "         'easiest': 1,\n",
       "         'programming': 1,\n",
       "         'language.': 1,\n",
       "         'Python': 1,\n",
       "         'next': 1,\n",
       "         'superstar': 1})"
      ]
     },
     "execution_count": 18,
     "metadata": {},
     "output_type": "execute_result"
    }
   ],
   "source": [
    "Counter(b)"
   ]
  },
  {
   "cell_type": "code",
   "execution_count": null,
   "id": "31a62d45",
   "metadata": {},
   "outputs": [],
   "source": [
    "def average(array):\n",
    "    for i in range(len(n)):\n",
    "        s = sum(arr)/len(arr)\n",
    "        s = i\n",
    "\n",
    "if __name__ == '__main__':\n",
    "    n = int(input())\n",
    "    arr = list(map(int, input().split()))\n",
    "    result = average(arr)\n",
    "    print(result)"
   ]
  },
  {
   "cell_type": "code",
   "execution_count": 27,
   "id": "d4700db1",
   "metadata": {},
   "outputs": [
    {
     "name": "stdout",
     "output_type": "stream",
     "text": [
      "10\n",
      "161 182 161 154 176 170 167 171 170 174\n"
     ]
    }
   ],
   "source": [
    "n = int(input())\n",
    "arr = list(map(int, input().split()))"
   ]
  },
  {
   "cell_type": "code",
   "execution_count": 28,
   "id": "dd64fe20",
   "metadata": {},
   "outputs": [
    {
     "name": "stdout",
     "output_type": "stream",
     "text": [
      "[161, 182, 161, 154, 176, 170, 167, 171, 170, 174]\n"
     ]
    }
   ],
   "source": [
    "print(arr)"
   ]
  },
  {
   "cell_type": "code",
   "execution_count": 32,
   "id": "5b688cbe",
   "metadata": {},
   "outputs": [
    {
     "data": {
      "text/plain": [
       "168.6"
      ]
     },
     "execution_count": 32,
     "metadata": {},
     "output_type": "execute_result"
    }
   ],
   "source": [
    "sum(arr)/len(arr)"
   ]
  },
  {
   "cell_type": "code",
   "execution_count": 31,
   "id": "9e307df8",
   "metadata": {},
   "outputs": [
    {
     "data": {
      "text/plain": [
       "10"
      ]
     },
     "execution_count": 31,
     "metadata": {},
     "output_type": "execute_result"
    }
   ],
   "source": [
    "len(arr)"
   ]
  },
  {
   "cell_type": "code",
   "execution_count": 33,
   "id": "ab29997e",
   "metadata": {},
   "outputs": [],
   "source": [
    "from itertools import permutations"
   ]
  },
  {
   "cell_type": "code",
   "execution_count": 34,
   "id": "a66cba78",
   "metadata": {},
   "outputs": [],
   "source": [
    "a = \"hack\""
   ]
  },
  {
   "cell_type": "code",
   "execution_count": 38,
   "id": "5f07847a",
   "metadata": {},
   "outputs": [
    {
     "data": {
      "text/plain": [
       "(('h', 'a'),\n",
       " ('h', 'c'),\n",
       " ('h', 'k'),\n",
       " ('a', 'h'),\n",
       " ('a', 'c'),\n",
       " ('a', 'k'),\n",
       " ('c', 'h'),\n",
       " ('c', 'a'),\n",
       " ('c', 'k'),\n",
       " ('k', 'h'),\n",
       " ('k', 'a'),\n",
       " ('k', 'c'))"
      ]
     },
     "execution_count": 38,
     "metadata": {},
     "output_type": "execute_result"
    }
   ],
   "source": [
    "b = tuple(permutations(a,2))\n",
    "b"
   ]
  },
  {
   "cell_type": "code",
   "execution_count": 36,
   "id": "520a4b81",
   "metadata": {},
   "outputs": [
    {
     "name": "stdout",
     "output_type": "stream",
     "text": [
      "('h', 'a') ('h', 'c') ('h', 'k') ('a', 'h') ('a', 'c') ('a', 'k') ('c', 'h') ('c', 'a') ('c', 'k') ('k', 'h') ('k', 'a') ('k', 'c')\n"
     ]
    }
   ],
   "source": [
    "print(*b)"
   ]
  },
  {
   "cell_type": "code",
   "execution_count": 37,
   "id": "0d573137",
   "metadata": {},
   "outputs": [
    {
     "name": "stdout",
     "output_type": "stream",
     "text": [
      "ha\n",
      "hc\n",
      "hk\n",
      "ah\n",
      "ac\n",
      "ak\n",
      "ch\n",
      "ca\n",
      "ck\n",
      "kh\n",
      "ka\n",
      "kc\n"
     ]
    }
   ],
   "source": [
    "for i in b:\n",
    "    print(\"\".join(i))"
   ]
  },
  {
   "cell_type": "code",
   "execution_count": 41,
   "id": "f2ba55bc",
   "metadata": {},
   "outputs": [
    {
     "data": {
      "text/plain": [
       "['ha', 'hc', 'hk', 'ah', 'ac', 'ak', 'ch', 'ca', 'ck', 'kh', 'ka', 'kc']"
      ]
     },
     "execution_count": 41,
     "metadata": {},
     "output_type": "execute_result"
    }
   ],
   "source": [
    "[\"\".join(i) for i in permutations(a,2)]"
   ]
  },
  {
   "cell_type": "code",
   "execution_count": 42,
   "id": "a2449848",
   "metadata": {},
   "outputs": [],
   "source": [
    "from cmath import phase"
   ]
  },
  {
   "cell_type": "code",
   "execution_count": 43,
   "id": "34adb544",
   "metadata": {},
   "outputs": [
    {
     "data": {
      "text/plain": [
       "3.141592653589793"
      ]
     },
     "execution_count": 43,
     "metadata": {},
     "output_type": "execute_result"
    }
   ],
   "source": [
    "phase(complex(-1.0, 0.0))"
   ]
  },
  {
   "cell_type": "code",
   "execution_count": 44,
   "id": "6b156a51",
   "metadata": {},
   "outputs": [
    {
     "data": {
      "text/plain": [
       "3.141592653589793"
      ]
     },
     "execution_count": 44,
     "metadata": {},
     "output_type": "execute_result"
    }
   ],
   "source": [
    ">>> phase(complex(1.0, 2.0))\n",
    "3.1415926535897931"
   ]
  },
  {
   "cell_type": "code",
   "execution_count": 45,
   "id": "12b8a8d6",
   "metadata": {},
   "outputs": [],
   "source": [
    "a = 1+2j"
   ]
  },
  {
   "cell_type": "code",
   "execution_count": 48,
   "id": "6c407c57",
   "metadata": {},
   "outputs": [
    {
     "data": {
      "text/plain": [
       "(1+2j)"
      ]
     },
     "execution_count": 48,
     "metadata": {},
     "output_type": "execute_result"
    }
   ],
   "source": [
    "b = complex(a)\n",
    "b"
   ]
  },
  {
   "cell_type": "code",
   "execution_count": 49,
   "id": "fcc0e0e0",
   "metadata": {},
   "outputs": [
    {
     "data": {
      "text/plain": [
       "2.23606797749979"
      ]
     },
     "execution_count": 49,
     "metadata": {},
     "output_type": "execute_result"
    }
   ],
   "source": [
    "abs(b)"
   ]
  },
  {
   "cell_type": "code",
   "execution_count": 51,
   "id": "567da3b9",
   "metadata": {},
   "outputs": [
    {
     "data": {
      "text/plain": [
       "1.1071487177940904"
      ]
     },
     "execution_count": 51,
     "metadata": {},
     "output_type": "execute_result"
    }
   ],
   "source": [
    "phase(b)"
   ]
  },
  {
   "cell_type": "code",
   "execution_count": null,
   "id": "ad31d929",
   "metadata": {},
   "outputs": [],
   "source": [
    "5\n",
    "\n",
    "1\n",
    "22\n",
    "333\n",
    "4444"
   ]
  },
  {
   "cell_type": "code",
   "execution_count": 63,
   "id": "22a2af31",
   "metadata": {},
   "outputs": [
    {
     "name": "stdout",
     "output_type": "stream",
     "text": [
      "5\n",
      "1\n",
      "22\n",
      "333\n",
      "4444\n"
     ]
    }
   ],
   "source": [
    "a = int(input())\n",
    "\n",
    "for i in range(1, a):\n",
    "    print(i*str(i))"
   ]
  },
  {
   "cell_type": "code",
   "execution_count": 59,
   "id": "c66acbcb",
   "metadata": {},
   "outputs": [
    {
     "name": "stdout",
     "output_type": "stream",
     "text": [
      "1\n"
     ]
    }
   ],
   "source": [
    "print((10**(i)//9)*i)"
   ]
  },
  {
   "cell_type": "code",
   "execution_count": 77,
   "id": "562d4353",
   "metadata": {},
   "outputs": [
    {
     "name": "stdout",
     "output_type": "stream",
     "text": [
      "5\n",
      "1\n",
      "2\n",
      "3\n",
      "4\n"
     ]
    }
   ],
   "source": [
    "a = int(input())\n",
    "b = []\n",
    "for i in range(1, a):\n",
    "    b.append(i)\n",
    "    b = \n",
    "    print(i)"
   ]
  },
  {
   "cell_type": "code",
   "execution_count": 78,
   "id": "5c35d996",
   "metadata": {},
   "outputs": [],
   "source": [
    "a = 5"
   ]
  },
  {
   "cell_type": "code",
   "execution_count": 98,
   "id": "2f801ba1",
   "metadata": {},
   "outputs": [
    {
     "data": {
      "text/plain": [
       "[1, 1, 2, 1, 2, 3]"
      ]
     },
     "execution_count": 98,
     "metadata": {},
     "output_type": "execute_result"
    }
   ],
   "source": [
    "[j for i in range(1, a) for j in range(1, i)]"
   ]
  },
  {
   "cell_type": "code",
   "execution_count": 99,
   "id": "3d4aa526",
   "metadata": {},
   "outputs": [
    {
     "name": "stdout",
     "output_type": "stream",
     "text": [
      "1\n",
      "22\n",
      "333\n",
      "4444\n"
     ]
    }
   ],
   "source": [
    "for i in range(1, a):\n",
    "    for j in range(0, i):\n",
    "        print(i, end =\"\")\n",
    "    print()"
   ]
  },
  {
   "cell_type": "code",
   "execution_count": 100,
   "id": "9220ffd4",
   "metadata": {},
   "outputs": [
    {
     "name": "stdout",
     "output_type": "stream",
     "text": [
      "5\n",
      "1\n",
      "22\n",
      "333\n",
      "4444\n"
     ]
    }
   ],
   "source": [
    "for i in range(1,int(input())):\n",
    "    print((10**(i)//9)*i)"
   ]
  },
  {
   "cell_type": "code",
   "execution_count": 101,
   "id": "60c7ca27",
   "metadata": {},
   "outputs": [
    {
     "data": {
      "text/plain": [
       "10000"
      ]
     },
     "execution_count": 101,
     "metadata": {},
     "output_type": "execute_result"
    }
   ],
   "source": [
    "10**4"
   ]
  },
  {
   "cell_type": "code",
   "execution_count": 106,
   "id": "ef3b4e40",
   "metadata": {},
   "outputs": [
    {
     "name": "stdout",
     "output_type": "stream",
     "text": [
      "5\n",
      "1\n",
      "22\n",
      "333\n",
      "4444\n"
     ]
    }
   ],
   "source": [
    "for i in range(1,int(input())):\n",
    "    print((10**(i)//9)*i)"
   ]
  },
  {
   "cell_type": "code",
   "execution_count": null,
   "id": "b03771a4",
   "metadata": {},
   "outputs": [],
   "source": []
  }
 ],
 "metadata": {
  "kernelspec": {
   "display_name": "Python 3 (ipykernel)",
   "language": "python",
   "name": "python3"
  },
  "language_info": {
   "codemirror_mode": {
    "name": "ipython",
    "version": 3
   },
   "file_extension": ".py",
   "mimetype": "text/x-python",
   "name": "python",
   "nbconvert_exporter": "python",
   "pygments_lexer": "ipython3",
   "version": "3.9.7"
  }
 },
 "nbformat": 4,
 "nbformat_minor": 5
}
