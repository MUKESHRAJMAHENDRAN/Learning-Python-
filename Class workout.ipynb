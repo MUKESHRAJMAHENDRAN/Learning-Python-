{
 "cells": [
  {
   "cell_type": "code",
   "execution_count": 18,
   "id": "6c53cf36",
   "metadata": {},
   "outputs": [
    {
     "name": "stdout",
     "output_type": "stream",
     "text": [
      "[0, 1, 4, 9, 25]\n"
     ]
    }
   ],
   "source": [
    "a=[0,1,2,3,5]\n",
    "c=[i**2 for i in a]\n",
    "print(c)"
   ]
  },
  {
   "cell_type": "code",
   "execution_count": 17,
   "id": "6d292f78",
   "metadata": {},
   "outputs": [
    {
     "name": "stdout",
     "output_type": "stream",
     "text": [
      "[5, 15, 25]\n"
     ]
    }
   ],
   "source": [
    "k=[i*5 for i in a if i%2!=0]\n",
    "print(k)"
   ]
  },
  {
   "cell_type": "code",
   "execution_count": 6,
   "id": "7e6925e6",
   "metadata": {},
   "outputs": [
    {
     "data": {
      "text/plain": [
       "1006"
      ]
     },
     "execution_count": 6,
     "metadata": {},
     "output_type": "execute_result"
    }
   ],
   "source": [
    "def savings(n):\n",
    "    for i in range(1000,100000,1000):\n",
    "        return (1000+(2*n))\n",
    "savings(3)    "
   ]
  },
  {
   "cell_type": "code",
   "execution_count": 6,
   "id": "be86edfc",
   "metadata": {},
   "outputs": [
    {
     "name": "stdout",
     "output_type": "stream",
     "text": [
      "mukesh\n",
      "no\n"
     ]
    }
   ],
   "source": [
    "a=input()\n",
    "if a.isnumeric()==True:\n",
    "    print(\"yes\")\n",
    "else:\n",
    "    print(\"no\")"
   ]
  },
  {
   "cell_type": "code",
   "execution_count": 17,
   "id": "43a7af9e",
   "metadata": {},
   "outputs": [
    {
     "name": "stdout",
     "output_type": "stream",
     "text": [
      "4 2\n",
      "12\n"
     ]
    }
   ],
   "source": [
    "#Given 2 numbers a and B.Print the value of a!/b!.\n",
    "a,b=map(int,input().split())\n",
    "import math\n",
    "c=math.factorial(a)\n",
    "d=math.factorial(b)\n",
    "print(int(c/d))"
   ]
  },
  {
   "cell_type": "code",
   "execution_count": 3,
   "id": "28307250",
   "metadata": {},
   "outputs": [
    {
     "name": "stdout",
     "output_type": "stream",
     "text": [
      "7\n",
      "yes list contain 7: And the index is 6\n"
     ]
    }
   ],
   "source": [
    "#Searching in python.\n",
    "a=[1,4,5,8,2,3,7,9,34,67,86]\n",
    "b=int(input())\n",
    "if b in a:\n",
    "    print(f'yes list contain {b}: And the index is {a.index(b)}')\n",
    "else:\n",
    "    print(\"It is not present\")"
   ]
  },
  {
   "cell_type": "code",
   "execution_count": 2,
   "id": "8026f5d2",
   "metadata": {},
   "outputs": [
    {
     "name": "stdout",
     "output_type": "stream",
     "text": [
      "7 \n",
      "1 2 3 4 5 6 7\n",
      "7->6->5->4->3->2->1\n"
     ]
    }
   ],
   "source": [
    "#Using join method\n",
    "a=input()\n",
    "b=(input().split())\n",
    "b.reverse()\n",
    "d=\"->\".join(b)\n",
    "print(d)"
   ]
  },
  {
   "cell_type": "code",
   "execution_count": 3,
   "id": "f4caf110",
   "metadata": {},
   "outputs": [
    {
     "name": "stdout",
     "output_type": "stream",
     "text": [
      "Enter your name:6\n",
      "Guess the number:7\n",
      "Number is too low\n",
      "Guess the number:6\n",
      "Number is too low\n",
      "Guess the number:6\n",
      "Number is too low\n",
      "Guess the number:6\n",
      "Number is too low\n",
      "Guess the number:6\n",
      "Number is too low\n",
      "Your chance is over,the correct number is :9 Thank you\n"
     ]
    }
   ],
   "source": [
    "#Guessing game\n",
    "import random\n",
    "x=random.randint(1,10)\n",
    "a=input(\"Enter your name:\")\n",
    "count=0\n",
    "while count<5:\n",
    "    guess=int(input(\"Guess the number:\"))\n",
    "    count=count+1\n",
    "    if guess<x:\n",
    "        print(\"Number is too low\")\n",
    "    elif guess>x:\n",
    "        print(\"Number is too high\")\n",
    "    else:\n",
    "        break\n",
    "if guess==x:\n",
    "    print(f'You found the number:{x} in {count} attempt')\n",
    "else:\n",
    "    print(f'Your chance is over,the correct number is :{x} Thank you')"
   ]
  }
 ],
 "metadata": {
  "kernelspec": {
   "display_name": "Python 3 (ipykernel)",
   "language": "python",
   "name": "python3"
  },
  "language_info": {
   "codemirror_mode": {
    "name": "ipython",
    "version": 3
   },
   "file_extension": ".py",
   "mimetype": "text/x-python",
   "name": "python",
   "nbconvert_exporter": "python",
   "pygments_lexer": "ipython3",
   "version": "3.8.10"
  }
 },
 "nbformat": 4,
 "nbformat_minor": 5
}
