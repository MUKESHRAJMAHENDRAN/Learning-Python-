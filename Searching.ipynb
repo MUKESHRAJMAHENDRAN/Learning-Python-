{
  "nbformat": 4,
  "nbformat_minor": 0,
  "metadata": {
    "colab": {
      "name": "Searching.ipynb",
      "provenance": [],
      "collapsed_sections": [],
      "authorship_tag": "ABX9TyOQpyT+txIIXM6Z4oZ5S7g9",
      "include_colab_link": true
    },
    "kernelspec": {
      "name": "python3",
      "display_name": "Python 3"
    },
    "language_info": {
      "name": "python"
    }
  },
  "cells": [
    {
      "cell_type": "markdown",
      "metadata": {
        "id": "view-in-github",
        "colab_type": "text"
      },
      "source": [
        "<a href=\"https://colab.research.google.com/github/MUKESHRAJMAHENDRAN/Python-programming/blob/main/Searching.ipynb\" target=\"_parent\"><img src=\"https://colab.research.google.com/assets/colab-badge.svg\" alt=\"Open In Colab\"/></a>"
      ]
    },
    {
      "cell_type": "code",
      "source": [
        "#Searching\n",
        "#Rule -01 Element in an list in sorted order\n",
        "#Rule -02 Element should not contain duplicates\n",
        "\n",
        "el = [10,20,35,45,67,74,82,97]"
      ],
      "metadata": {
        "id": "bJtZ65mz0JxS"
      },
      "execution_count": 15,
      "outputs": []
    },
    {
      "cell_type": "code",
      "source": [
        "#Linear search\n",
        "def linear(elements, value):\n",
        "\n",
        "  for index, elements in enumerate(elements):\n",
        "    if elements == value:\n",
        "      return index\n",
        "  return None"
      ],
      "metadata": {
        "id": "0PuUyR9W0Ush"
      },
      "execution_count": 16,
      "outputs": []
    },
    {
      "cell_type": "code",
      "source": [
        "print(linear(el, 40))"
      ],
      "metadata": {
        "colab": {
          "base_uri": "https://localhost:8080/"
        },
        "id": "OCGnFnaF1nUS",
        "outputId": "e8dc668a-7e57-4b91-d95e-680e6b913b3e"
      },
      "execution_count": 17,
      "outputs": [
        {
          "output_type": "stream",
          "name": "stdout",
          "text": [
            "None\n"
          ]
        }
      ]
    },
    {
      "cell_type": "code",
      "source": [
        "print(linear(el, 82))"
      ],
      "metadata": {
        "colab": {
          "base_uri": "https://localhost:8080/"
        },
        "id": "LNPzc_i72bh5",
        "outputId": "5aca7f8a-7f0c-457c-e916-4615f34019e6"
      },
      "execution_count": 18,
      "outputs": [
        {
          "output_type": "stream",
          "name": "stdout",
          "text": [
            "6\n"
          ]
        }
      ]
    },
    {
      "cell_type": "code",
      "source": [
        "linear(el,10)"
      ],
      "metadata": {
        "colab": {
          "base_uri": "https://localhost:8080/"
        },
        "id": "m6gp4L-h2ui5",
        "outputId": "fee79edb-dc31-47a0-91eb-5623e3042d20"
      },
      "execution_count": 19,
      "outputs": [
        {
          "output_type": "execute_result",
          "data": {
            "text/plain": [
              "0"
            ]
          },
          "metadata": {},
          "execution_count": 19
        }
      ]
    },
    {
      "cell_type": "code",
      "source": [
        "#Binary search-Iterative\n",
        "def binary(elements, value):\n",
        "\n",
        "  left, right = 0, len(elements)-1\n",
        "\n",
        "  while left<=right:\n",
        "    middle = (left+right)//2\n",
        "\n",
        "    if elements[middle] == value:\n",
        "      return middle\n",
        "\n",
        "    if elements[middle] < value:\n",
        "      left = middle + 1\n",
        "    elif elements[middle] > value:\n",
        "      right = middle-1\n"
      ],
      "metadata": {
        "id": "ZaVsqR-x251J"
      },
      "execution_count": 20,
      "outputs": []
    },
    {
      "cell_type": "code",
      "source": [
        "binary(el, 87)"
      ],
      "metadata": {
        "id": "X1nND62w4ZYz"
      },
      "execution_count": 21,
      "outputs": []
    },
    {
      "cell_type": "code",
      "source": [
        "el"
      ],
      "metadata": {
        "colab": {
          "base_uri": "https://localhost:8080/"
        },
        "id": "wJn_Dldx4dCJ",
        "outputId": "27513837-8c9f-4949-dd9e-b4fd3be25e2d"
      },
      "execution_count": 22,
      "outputs": [
        {
          "output_type": "execute_result",
          "data": {
            "text/plain": [
              "[10, 20, 35, 45, 67, 74, 82, 97]"
            ]
          },
          "metadata": {},
          "execution_count": 22
        }
      ]
    },
    {
      "cell_type": "code",
      "source": [
        "print(binary(el, 67))"
      ],
      "metadata": {
        "colab": {
          "base_uri": "https://localhost:8080/"
        },
        "id": "K6fXRy5u4drp",
        "outputId": "0c988ff7-8192-419d-8301-d609f043de69"
      },
      "execution_count": 24,
      "outputs": [
        {
          "output_type": "stream",
          "name": "stdout",
          "text": [
            "4\n"
          ]
        }
      ]
    }
  ]
}