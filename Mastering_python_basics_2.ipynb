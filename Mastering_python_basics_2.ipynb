{
  "nbformat": 4,
  "nbformat_minor": 0,
  "metadata": {
    "colab": {
      "name": "Mastering_python_basics_2.ipynb",
      "provenance": [],
      "collapsed_sections": []
    },
    "kernelspec": {
      "name": "python3",
      "display_name": "Python 3"
    },
    "language_info": {
      "name": "python"
    }
  },
  "cells": [
    {
      "cell_type": "markdown",
      "metadata": {
        "id": "GJfCxgg-quwI"
      },
      "source": [
        "#Conditional block"
      ]
    },
    {
      "cell_type": "markdown",
      "metadata": {
        "id": "bZkmSiQN6uyd"
      },
      "source": [
        "Tertinary operator"
      ]
    },
    {
      "cell_type": "code",
      "metadata": {
        "id": "1qCRvySXwcp8"
      },
      "source": [
        "is_friend = False\n",
        "\n",
        "is_conditioned = \"Message allowed\" if is_friend else \"Don't Allow\""
      ],
      "execution_count": null,
      "outputs": []
    },
    {
      "cell_type": "code",
      "metadata": {
        "colab": {
          "base_uri": "https://localhost:8080/"
        },
        "id": "CVaBfw9Nwxbj",
        "outputId": "3cec5109-3b77-445f-eab7-2179543bdce6"
      },
      "source": [
        "print(is_conditioned)"
      ],
      "execution_count": null,
      "outputs": [
        {
          "output_type": "stream",
          "name": "stdout",
          "text": [
            "Don't Allow\n"
          ]
        }
      ]
    },
    {
      "cell_type": "code",
      "metadata": {
        "colab": {
          "base_uri": "https://localhost:8080/"
        },
        "id": "OyaDr-sSiRON",
        "outputId": "e5f8ccf7-9499-4237-d2d2-3b5400fb012e"
      },
      "source": [
        "is_magician = False\n",
        "\n",
        "is_expert = True\n",
        "\n",
        "if is_magician and is_expert:\n",
        "  print(\"Master magician\")\n",
        "elif is_magician or is_expert:\n",
        "  print(\"Atleast you are getting there\")\n",
        "else:\n",
        "  print(\"You need magic power or expert\")"
      ],
      "execution_count": null,
      "outputs": [
        {
          "output_type": "stream",
          "name": "stdout",
          "text": [
            "Atleast you are getting there\n"
          ]
        }
      ]
    },
    {
      "cell_type": "code",
      "metadata": {
        "id": "qMxNYjzajFvm",
        "colab": {
          "base_uri": "https://localhost:8080/"
        },
        "outputId": "ffeb0588-ec47-4d51-cd7a-1f36c10d3464"
      },
      "source": [
        "int(\"1\") is 1"
      ],
      "execution_count": null,
      "outputs": [
        {
          "output_type": "execute_result",
          "data": {
            "text/plain": [
              "True"
            ]
          },
          "metadata": {},
          "execution_count": 2
        }
      ]
    },
    {
      "cell_type": "code",
      "metadata": {
        "colab": {
          "base_uri": "https://localhost:8080/"
        },
        "id": "WSmZ9YjJCOBd",
        "outputId": "228406f9-e908-48b6-a79f-f66181cb02ee"
      },
      "source": [
        "\"1\" is 1"
      ],
      "execution_count": null,
      "outputs": [
        {
          "output_type": "execute_result",
          "data": {
            "text/plain": [
              "False"
            ]
          },
          "metadata": {},
          "execution_count": 3
        }
      ]
    },
    {
      "cell_type": "code",
      "metadata": {
        "colab": {
          "base_uri": "https://localhost:8080/"
        },
        "id": "AeKsj2R8CVgv",
        "outputId": "f29d1b49-b2a5-4892-e8da-8ce1acf8fdd7"
      },
      "source": [
        "True is 1"
      ],
      "execution_count": null,
      "outputs": [
        {
          "output_type": "execute_result",
          "data": {
            "text/plain": [
              "False"
            ]
          },
          "metadata": {},
          "execution_count": 4
        }
      ]
    },
    {
      "cell_type": "code",
      "metadata": {
        "colab": {
          "base_uri": "https://localhost:8080/"
        },
        "id": "vqy_K4WqCYIM",
        "outputId": "d013c299-f6b9-49fd-8d77-307d5618b81a"
      },
      "source": [
        "bool(True) is 1"
      ],
      "execution_count": null,
      "outputs": [
        {
          "output_type": "execute_result",
          "data": {
            "text/plain": [
              "False"
            ]
          },
          "metadata": {},
          "execution_count": 7
        }
      ]
    },
    {
      "cell_type": "markdown",
      "metadata": {
        "id": "DNKeu8AuCckh"
      },
      "source": [
        "##Loops"
      ]
    },
    {
      "cell_type": "code",
      "metadata": {
        "colab": {
          "base_uri": "https://localhost:8080/"
        },
        "id": "GEDyrClOCjgS",
        "outputId": "42b2cfa4-0ef5-47eb-84fb-cf8dc5817de1"
      },
      "source": [
        "for item in \"Mukeshraj\":\n",
        "  print(item)"
      ],
      "execution_count": null,
      "outputs": [
        {
          "output_type": "stream",
          "name": "stdout",
          "text": [
            "M\n",
            "u\n",
            "k\n",
            "e\n",
            "s\n",
            "h\n",
            "r\n",
            "a\n",
            "j\n"
          ]
        }
      ]
    },
    {
      "cell_type": "code",
      "metadata": {
        "colab": {
          "base_uri": "https://localhost:8080/"
        },
        "id": "Wa_MovoWCpiR",
        "outputId": "ec228e79-c4c4-4d94-f4a1-10da0c155f9b"
      },
      "source": [
        "for x in [1,2,3]:\n",
        "  for y in [4,5,6]:\n",
        "    print(x, y)\n",
        "  print(x,y)\n",
        "print(x,y)"
      ],
      "execution_count": null,
      "outputs": [
        {
          "output_type": "stream",
          "name": "stdout",
          "text": [
            "1 4\n",
            "1 5\n",
            "1 6\n",
            "1 6\n",
            "2 4\n",
            "2 5\n",
            "2 6\n",
            "2 6\n",
            "3 4\n",
            "3 5\n",
            "3 6\n",
            "3 6\n",
            "3 6\n"
          ]
        }
      ]
    },
    {
      "cell_type": "markdown",
      "metadata": {
        "id": "1dUFV9gJC5np"
      },
      "source": [
        "## Iterables"
      ]
    },
    {
      "cell_type": "code",
      "metadata": {
        "id": "f1dmnBohYvdw"
      },
      "source": [
        "user = {\n",
        "    'name' : \"Mukeshraj M\",\n",
        "    \"age\" : 25,\n",
        "    \"is_good\" : True\n",
        "}"
      ],
      "execution_count": null,
      "outputs": []
    },
    {
      "cell_type": "code",
      "metadata": {
        "colab": {
          "base_uri": "https://localhost:8080/"
        },
        "id": "f1uNj6D-ZLvA",
        "outputId": "346e4574-5db8-4870-9e1d-cfd375908175"
      },
      "source": [
        "user"
      ],
      "execution_count": null,
      "outputs": [
        {
          "output_type": "execute_result",
          "data": {
            "text/plain": [
              "{'age': 25, 'is_good': True, 'name': 'Mukeshraj M'}"
            ]
          },
          "metadata": {},
          "execution_count": 18
        }
      ]
    },
    {
      "cell_type": "code",
      "metadata": {
        "colab": {
          "base_uri": "https://localhost:8080/"
        },
        "id": "KcqDKGKXZM94",
        "outputId": "fde31e3f-b19c-407e-bdd0-abc9e9cea0a0"
      },
      "source": [
        "for item in user:\n",
        "  print(item)"
      ],
      "execution_count": null,
      "outputs": [
        {
          "output_type": "stream",
          "name": "stdout",
          "text": [
            "name\n",
            "age\n",
            "is_good\n"
          ]
        }
      ]
    },
    {
      "cell_type": "code",
      "metadata": {
        "colab": {
          "base_uri": "https://localhost:8080/"
        },
        "id": "hqHEXLZOZRkp",
        "outputId": "0c5072ee-9ca3-416d-c501-0dd302196a45"
      },
      "source": [
        "for item in user.items():\n",
        "  print(item)"
      ],
      "execution_count": null,
      "outputs": [
        {
          "output_type": "stream",
          "name": "stdout",
          "text": [
            "('name', 'Mukeshraj M')\n",
            "('age', 25)\n",
            "('is_good', True)\n"
          ]
        }
      ]
    },
    {
      "cell_type": "code",
      "metadata": {
        "colab": {
          "base_uri": "https://localhost:8080/"
        },
        "id": "WacBBDosZZRm",
        "outputId": "152f522b-e15a-4efb-c303-913dd40e93c4"
      },
      "source": [
        "for item in user.keys():\n",
        "  print(item)"
      ],
      "execution_count": null,
      "outputs": [
        {
          "output_type": "stream",
          "name": "stdout",
          "text": [
            "name\n",
            "age\n",
            "is_good\n"
          ]
        }
      ]
    },
    {
      "cell_type": "code",
      "metadata": {
        "colab": {
          "base_uri": "https://localhost:8080/"
        },
        "id": "-9oTBWr0ZzWQ",
        "outputId": "e1b03859-1f13-47c1-c763-410b6af82c12"
      },
      "source": [
        "for item in user.values():\n",
        "  print(item)"
      ],
      "execution_count": null,
      "outputs": [
        {
          "output_type": "stream",
          "name": "stdout",
          "text": [
            "Mukeshraj M\n",
            "25\n",
            "True\n"
          ]
        }
      ]
    },
    {
      "cell_type": "code",
      "metadata": {
        "colab": {
          "base_uri": "https://localhost:8080/"
        },
        "id": "_COCNN4WZ54J",
        "outputId": "d6e98804-f3db-447d-9fbf-4912b0243b05"
      },
      "source": [
        "for key, values in user.items():\n",
        "  print(key,values)"
      ],
      "execution_count": null,
      "outputs": [
        {
          "output_type": "stream",
          "name": "stdout",
          "text": [
            "name Mukeshraj M\n",
            "age 25\n",
            "is_good True\n"
          ]
        }
      ]
    },
    {
      "cell_type": "code",
      "metadata": {
        "colab": {
          "base_uri": "https://localhost:8080/"
        },
        "id": "QgHWlGnDaBd9",
        "outputId": "74de3eb9-1e7f-4a91-e8fc-626c91d704f6"
      },
      "source": [
        "num =list(range(1,20))\n",
        "\n",
        "print(num)"
      ],
      "execution_count": null,
      "outputs": [
        {
          "output_type": "stream",
          "name": "stdout",
          "text": [
            "[1, 2, 3, 4, 5, 6, 7, 8, 9, 10, 11, 12, 13, 14, 15, 16, 17, 18, 19]\n"
          ]
        }
      ]
    },
    {
      "cell_type": "code",
      "metadata": {
        "id": "8g7IyYKwbsMy",
        "colab": {
          "base_uri": "https://localhost:8080/"
        },
        "outputId": "deca2d53-064f-4b62-fd3e-47089cd2cb8f"
      },
      "source": [
        "num"
      ],
      "execution_count": null,
      "outputs": [
        {
          "output_type": "execute_result",
          "data": {
            "text/plain": [
              "[1, 2, 3, 4, 5, 6, 7, 8, 9, 10, 11, 12, 13, 14, 15, 16, 17, 18, 19]"
            ]
          },
          "metadata": {},
          "execution_count": 18
        }
      ]
    },
    {
      "cell_type": "code",
      "metadata": {
        "id": "XFADblBUfxE5",
        "colab": {
          "base_uri": "https://localhost:8080/"
        },
        "outputId": "3d7f5694-8207-4006-a555-1e1e53450e44"
      },
      "source": [
        "sum = 0\n",
        "\n",
        "for item in num:\n",
        "  sum =sum+item\n",
        "  print(sum)"
      ],
      "execution_count": null,
      "outputs": [
        {
          "output_type": "stream",
          "name": "stdout",
          "text": [
            "1\n",
            "3\n",
            "6\n",
            "10\n",
            "15\n",
            "21\n",
            "28\n",
            "36\n",
            "45\n",
            "55\n",
            "66\n",
            "78\n",
            "91\n",
            "105\n",
            "120\n",
            "136\n",
            "153\n",
            "171\n",
            "190\n"
          ]
        }
      ]
    },
    {
      "cell_type": "code",
      "metadata": {
        "colab": {
          "base_uri": "https://localhost:8080/"
        },
        "id": "pWjE8asc2NoE",
        "outputId": "80b129c2-6a59-4366-c5d2-978e1892431d"
      },
      "source": [
        "print(sum)"
      ],
      "execution_count": null,
      "outputs": [
        {
          "output_type": "stream",
          "name": "stdout",
          "text": [
            "190\n"
          ]
        }
      ]
    },
    {
      "cell_type": "code",
      "metadata": {
        "id": "u7EXkIMr2jhL",
        "colab": {
          "base_uri": "https://localhost:8080/"
        },
        "outputId": "2daab1b1-2246-47de-ce10-a4c76b117735"
      },
      "source": [
        "for i in range(0,5):\n",
        "  print(\"Mukesh\")"
      ],
      "execution_count": null,
      "outputs": [
        {
          "output_type": "stream",
          "name": "stdout",
          "text": [
            "Mukesh\n",
            "Mukesh\n",
            "Mukesh\n",
            "Mukesh\n",
            "Mukesh\n"
          ]
        }
      ]
    },
    {
      "cell_type": "code",
      "metadata": {
        "colab": {
          "base_uri": "https://localhost:8080/"
        },
        "id": "sw8EVQRl_n2p",
        "outputId": "9ef58c4f-20b3-4cee-ea52-a20f9b7a6870"
      },
      "source": [
        "for i in enumerate(\"Mukesh\"):\n",
        "  print(i)"
      ],
      "execution_count": null,
      "outputs": [
        {
          "output_type": "stream",
          "name": "stdout",
          "text": [
            "(0, 'M')\n",
            "(1, 'u')\n",
            "(2, 'k')\n",
            "(3, 'e')\n",
            "(4, 's')\n",
            "(5, 'h')\n"
          ]
        }
      ]
    },
    {
      "cell_type": "code",
      "metadata": {
        "colab": {
          "base_uri": "https://localhost:8080/"
        },
        "id": "lvzagoGpDJF3",
        "outputId": "dc35d5ea-8ee7-4487-b726-835c45ed74f7"
      },
      "source": [
        "for i,char in enumerate(\"Mukesh\"):\n",
        "  print(i,char)"
      ],
      "execution_count": null,
      "outputs": [
        {
          "output_type": "stream",
          "name": "stdout",
          "text": [
            "0 M\n",
            "1 u\n",
            "2 k\n",
            "3 e\n",
            "4 s\n",
            "5 h\n"
          ]
        }
      ]
    },
    {
      "cell_type": "code",
      "metadata": {
        "colab": {
          "base_uri": "https://localhost:8080/"
        },
        "id": "3pRRkD2uDOBp",
        "outputId": "c0dd4771-a61d-44a5-81ef-02d10e15f352"
      },
      "source": [
        "for i, c in enumerate(list(range(1,100))):\n",
        "  print(i,c)"
      ],
      "execution_count": null,
      "outputs": [
        {
          "output_type": "stream",
          "name": "stdout",
          "text": [
            "0 1\n",
            "1 2\n",
            "2 3\n",
            "3 4\n",
            "4 5\n",
            "5 6\n",
            "6 7\n",
            "7 8\n",
            "8 9\n",
            "9 10\n",
            "10 11\n",
            "11 12\n",
            "12 13\n",
            "13 14\n",
            "14 15\n",
            "15 16\n",
            "16 17\n",
            "17 18\n",
            "18 19\n",
            "19 20\n",
            "20 21\n",
            "21 22\n",
            "22 23\n",
            "23 24\n",
            "24 25\n",
            "25 26\n",
            "26 27\n",
            "27 28\n",
            "28 29\n",
            "29 30\n",
            "30 31\n",
            "31 32\n",
            "32 33\n",
            "33 34\n",
            "34 35\n",
            "35 36\n",
            "36 37\n",
            "37 38\n",
            "38 39\n",
            "39 40\n",
            "40 41\n",
            "41 42\n",
            "42 43\n",
            "43 44\n",
            "44 45\n",
            "45 46\n",
            "46 47\n",
            "47 48\n",
            "48 49\n",
            "49 50\n",
            "50 51\n",
            "51 52\n",
            "52 53\n",
            "53 54\n",
            "54 55\n",
            "55 56\n",
            "56 57\n",
            "57 58\n",
            "58 59\n",
            "59 60\n",
            "60 61\n",
            "61 62\n",
            "62 63\n",
            "63 64\n",
            "64 65\n",
            "65 66\n",
            "66 67\n",
            "67 68\n",
            "68 69\n",
            "69 70\n",
            "70 71\n",
            "71 72\n",
            "72 73\n",
            "73 74\n",
            "74 75\n",
            "75 76\n",
            "76 77\n",
            "77 78\n",
            "78 79\n",
            "79 80\n",
            "80 81\n",
            "81 82\n",
            "82 83\n",
            "83 84\n",
            "84 85\n",
            "85 86\n",
            "86 87\n",
            "87 88\n",
            "88 89\n",
            "89 90\n",
            "90 91\n",
            "91 92\n",
            "92 93\n",
            "93 94\n",
            "94 95\n",
            "95 96\n",
            "96 97\n",
            "97 98\n",
            "98 99\n"
          ]
        }
      ]
    },
    {
      "cell_type": "code",
      "metadata": {
        "colab": {
          "base_uri": "https://localhost:8080/"
        },
        "id": "PvJEo2AmE8JF",
        "outputId": "ed741267-763c-41c6-89a2-decfbcfed4c9"
      },
      "source": [
        "for i, c in enumerate(list(range(1,100))):\n",
        "  if c == 50:\n",
        "    print(i,c)"
      ],
      "execution_count": null,
      "outputs": [
        {
          "output_type": "stream",
          "name": "stdout",
          "text": [
            "49 50\n"
          ]
        }
      ]
    },
    {
      "cell_type": "markdown",
      "metadata": {
        "id": "Nt4BzjnmFPNC"
      },
      "source": [
        "## while loop"
      ]
    },
    {
      "cell_type": "code",
      "metadata": {
        "colab": {
          "base_uri": "https://localhost:8080/"
        },
        "id": "v-AgsanNFR_h",
        "outputId": "4d8fe799-da8f-4b4b-a2ad-35a78f28b07f"
      },
      "source": [
        "i = 30\n",
        "\n",
        "while i<50:\n",
        "  i += 1\n",
        "  print(i)\n",
        "else:\n",
        "  print(\"its great\")"
      ],
      "execution_count": null,
      "outputs": [
        {
          "output_type": "stream",
          "name": "stdout",
          "text": [
            "31\n",
            "32\n",
            "33\n",
            "34\n",
            "35\n",
            "36\n",
            "37\n",
            "38\n",
            "39\n",
            "40\n",
            "41\n",
            "42\n",
            "43\n",
            "44\n",
            "45\n",
            "46\n",
            "47\n",
            "48\n",
            "49\n",
            "50\n",
            "its great\n"
          ]
        }
      ]
    },
    {
      "cell_type": "code",
      "metadata": {
        "colab": {
          "base_uri": "https://localhost:8080/"
        },
        "id": "9gpWrgh5FmU0",
        "outputId": "0e9e7db4-7d14-4ffd-f23e-f6d8fbee3c67"
      },
      "source": [
        "while True:\n",
        "  response = input(\"Say something:\")\n",
        "  if (response == 'bye'):\n",
        "    print(response)\n",
        "    break"
      ],
      "execution_count": null,
      "outputs": [
        {
          "output_type": "stream",
          "name": "stdout",
          "text": [
            "Say something:hi\n",
            "Say something:hi\n",
            "Say something:hi\n",
            "Say something:bye\n",
            "bye\n"
          ]
        }
      ]
    },
    {
      "cell_type": "code",
      "metadata": {
        "id": "mtP8LrmLHEcq"
      },
      "source": [
        "picture = [\n",
        "  [0,0,0,1,0,0,0],\n",
        "  [0,0,1,1,1,0,0],\n",
        "  [0,1,1,1,1,1,0],\n",
        "  [1,1,1,1,1,1,1],\n",
        "  [0,0,0,1,0,0,0],\n",
        "  [0,0,0,1,0,0,0]\n",
        "]"
      ],
      "execution_count": null,
      "outputs": []
    },
    {
      "cell_type": "code",
      "metadata": {
        "colab": {
          "base_uri": "https://localhost:8080/"
        },
        "id": "Es1LSlEg6vnC",
        "outputId": "e4f6cf13-8c3a-4e75-abd7-e301ba765e88"
      },
      "source": [
        "picture"
      ],
      "execution_count": null,
      "outputs": [
        {
          "output_type": "execute_result",
          "data": {
            "text/plain": [
              "[[0, 0, 0, 1, 0, 0, 0],\n",
              " [0, 0, 1, 1, 1, 0, 0],\n",
              " [0, 1, 1, 1, 1, 1, 0],\n",
              " [1, 1, 1, 1, 1, 1, 1],\n",
              " [0, 0, 0, 1, 0, 0, 0],\n",
              " [0, 0, 0, 1, 0, 0, 0]]"
            ]
          },
          "metadata": {},
          "execution_count": 20
        }
      ]
    },
    {
      "cell_type": "markdown",
      "metadata": {
        "id": "EBUNj5BZAbiC"
      },
      "source": [
        "Christmas tree"
      ]
    },
    {
      "cell_type": "code",
      "metadata": {
        "colab": {
          "base_uri": "https://localhost:8080/"
        },
        "id": "nn_KVfYD62Su",
        "outputId": "1c7c9627-0514-46d6-f986-c0ce4c5a965b"
      },
      "source": [
        "for row in picture:\n",
        "  for column in row:\n",
        "    if column ==1:\n",
        "      print(\"*\",end=\" \")\n",
        "    else:\n",
        "      print(end=\"  \")\n",
        "  print(\"\")# Need a new line so we have print statement"
      ],
      "execution_count": null,
      "outputs": [
        {
          "output_type": "stream",
          "name": "stdout",
          "text": [
            "      *       \n",
            "    * * *     \n",
            "  * * * * *   \n",
            "* * * * * * * \n",
            "      *       \n",
            "      *       \n"
          ]
        }
      ]
    },
    {
      "cell_type": "code",
      "metadata": {
        "colab": {
          "base_uri": "https://localhost:8080/"
        },
        "id": "I2AmXcam7LOY",
        "outputId": "527c1c9b-4e97-47b3-d497-b47fae5b3e6d"
      },
      "source": [
        "n = int(input(\"Enter the number of rows:\"))\n",
        "\n",
        "for i in range(0,n):\n",
        "  for j in range(0,i):\n",
        "    print(\"*\",end=\" \")\n",
        "  print(\"\")"
      ],
      "execution_count": null,
      "outputs": [
        {
          "output_type": "stream",
          "name": "stdout",
          "text": [
            "Enter the number of rows:7\n",
            "\n",
            "* \n",
            "* * \n",
            "* * * \n",
            "* * * * \n",
            "* * * * * \n",
            "* * * * * * \n"
          ]
        }
      ]
    },
    {
      "cell_type": "code",
      "metadata": {
        "colab": {
          "base_uri": "https://localhost:8080/"
        },
        "id": "NcXXE-k_BL20",
        "outputId": "88bf2089-ca55-48cd-fc98-a0588e126d43"
      },
      "source": [
        "n = int(input(\"Enter the number of rows:\"))\n",
        "\n",
        "for i in range(0,n):\n",
        "  for j in range(0,i+1):\n",
        "    print(\"*\",end=\" \")\n",
        "  print(\"\")"
      ],
      "execution_count": null,
      "outputs": [
        {
          "output_type": "stream",
          "name": "stdout",
          "text": [
            "Enter the number of rows:8\n",
            "* \n",
            "* * \n",
            "* * * \n",
            "* * * * \n",
            "* * * * * \n",
            "* * * * * * \n",
            "* * * * * * * \n",
            "* * * * * * * * \n"
          ]
        }
      ]
    },
    {
      "cell_type": "markdown",
      "metadata": {
        "id": "9WxQKaZ9Bksk"
      },
      "source": [
        "##Checking diplicates in the list"
      ]
    },
    {
      "cell_type": "code",
      "metadata": {
        "colab": {
          "base_uri": "https://localhost:8080/"
        },
        "id": "4y0W94XwdGzf",
        "outputId": "f09a65f8-a21b-4dfc-cbaa-51a335fa4e65"
      },
      "source": [
        "a = ['a','b','c','a','n','b']\n",
        "d=[]\n",
        "for i in a:\n",
        "  if a.count(i) > 1:\n",
        "    if i not in d:\n",
        "      d.append(i)\n",
        "print(d)"
      ],
      "execution_count": null,
      "outputs": [
        {
          "output_type": "stream",
          "name": "stdout",
          "text": [
            "['a', 'b']\n"
          ]
        }
      ]
    },
    {
      "cell_type": "markdown",
      "metadata": {
        "id": "76TiE4Nce9tJ"
      },
      "source": [
        "##Function"
      ]
    },
    {
      "cell_type": "code",
      "metadata": {
        "id": "7rGMZ7ksaq5_"
      },
      "source": [
        "a = list(range(0,10))"
      ],
      "execution_count": null,
      "outputs": []
    },
    {
      "cell_type": "code",
      "metadata": {
        "colab": {
          "base_uri": "https://localhost:8080/"
        },
        "id": "G0Pnxr4-bEtU",
        "outputId": "12314ed0-1bfb-42c9-b781-7b666ace1754"
      },
      "source": [
        "a"
      ],
      "execution_count": null,
      "outputs": [
        {
          "output_type": "execute_result",
          "data": {
            "text/plain": [
              "[0, 1, 2, 3, 4, 5, 6, 7, 8, 9]"
            ]
          },
          "metadata": {},
          "execution_count": 128
        }
      ]
    },
    {
      "cell_type": "code",
      "metadata": {
        "colab": {
          "base_uri": "https://localhost:8080/"
        },
        "id": "TOLzrfkBRwJ1",
        "outputId": "e3d7ff35-d865-4fef-be04-3891829e5b43"
      },
      "source": [
        "sum(list(range(1,10)))"
      ],
      "execution_count": null,
      "outputs": [
        {
          "output_type": "execute_result",
          "data": {
            "text/plain": [
              "45"
            ]
          },
          "metadata": {},
          "execution_count": 2
        }
      ]
    },
    {
      "cell_type": "code",
      "metadata": {
        "id": "UegaaqKdcKJj"
      },
      "source": [
        "def add():\n",
        "  for i in list(range(1,50)):\n",
        "    print(i)"
      ],
      "execution_count": null,
      "outputs": []
    },
    {
      "cell_type": "code",
      "metadata": {
        "colab": {
          "base_uri": "https://localhost:8080/"
        },
        "id": "PzeY4j43SJxE",
        "outputId": "16f9d66c-7aea-4759-cd86-d557f4d8be97"
      },
      "source": [
        "add()"
      ],
      "execution_count": null,
      "outputs": [
        {
          "output_type": "stream",
          "name": "stdout",
          "text": [
            "1\n",
            "2\n",
            "3\n",
            "4\n",
            "5\n",
            "6\n",
            "7\n",
            "8\n",
            "9\n",
            "10\n",
            "11\n",
            "12\n",
            "13\n",
            "14\n",
            "15\n",
            "16\n",
            "17\n",
            "18\n",
            "19\n",
            "20\n",
            "21\n",
            "22\n",
            "23\n",
            "24\n",
            "25\n",
            "26\n",
            "27\n",
            "28\n",
            "29\n",
            "30\n",
            "31\n",
            "32\n",
            "33\n",
            "34\n",
            "35\n",
            "36\n",
            "37\n",
            "38\n",
            "39\n",
            "40\n",
            "41\n",
            "42\n",
            "43\n",
            "44\n",
            "45\n",
            "46\n",
            "47\n",
            "48\n",
            "49\n"
          ]
        }
      ]
    },
    {
      "cell_type": "code",
      "metadata": {
        "id": "hOvvl5HxSW89"
      },
      "source": [
        "def say_hello(name, age):\n",
        "  print(f'helllllllllllllloooooooooooooooooooo:{name},{age}')"
      ],
      "execution_count": null,
      "outputs": []
    },
    {
      "cell_type": "code",
      "metadata": {
        "colab": {
          "base_uri": "https://localhost:8080/"
        },
        "id": "ueUgWEVXT6xF",
        "outputId": "0ebc3d65-6643-4526-de11-d4c87dd73d9a"
      },
      "source": [
        "say_hello(\"Mukesh\",24)"
      ],
      "execution_count": null,
      "outputs": [
        {
          "output_type": "stream",
          "name": "stdout",
          "text": [
            "helllllllllllllloooooooooooooooooooo:Mukesh,24\n"
          ]
        }
      ]
    },
    {
      "cell_type": "code",
      "metadata": {
        "colab": {
          "base_uri": "https://localhost:8080/"
        },
        "id": "dQBKQSMsUD-N",
        "outputId": "f1101013-143e-433e-8aca-4144e08b9cfd"
      },
      "source": [
        "say_hello(\"Lokesh\",19)"
      ],
      "execution_count": null,
      "outputs": [
        {
          "output_type": "stream",
          "name": "stdout",
          "text": [
            "helllllllllllllloooooooooooooooooooo:Lokesh,19\n"
          ]
        }
      ]
    },
    {
      "cell_type": "code",
      "metadata": {
        "colab": {
          "base_uri": "https://localhost:8080/"
        },
        "id": "H4FsosYXUILt",
        "outputId": "229a1ba0-50db-4732-9b6b-6a4fce3b093e"
      },
      "source": [
        "say_hello(age=24,name=\"Mukesh\")"
      ],
      "execution_count": null,
      "outputs": [
        {
          "output_type": "stream",
          "name": "stdout",
          "text": [
            "helllllllllllllloooooooooooooooooooo:Mukesh,24\n"
          ]
        }
      ]
    },
    {
      "cell_type": "code",
      "metadata": {
        "colab": {
          "base_uri": "https://localhost:8080/"
        },
        "id": "tmukznMwUsSd",
        "outputId": "e061e39c-277b-4452-a6b0-33397e45472e"
      },
      "source": [
        "say_hello(24,\"Mukesh\")"
      ],
      "execution_count": null,
      "outputs": [
        {
          "output_type": "stream",
          "name": "stdout",
          "text": [
            "helllllllllllllloooooooooooooooooooo:24,Mukesh\n"
          ]
        }
      ]
    }
  ]
}