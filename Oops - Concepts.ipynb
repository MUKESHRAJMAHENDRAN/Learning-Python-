{
 "cells": [
  {
   "cell_type": "code",
   "execution_count": 22,
   "id": "1b91a5e7",
   "metadata": {},
   "outputs": [],
   "source": [
    "class EmployeeCharacter:\n",
    "    def __init__(self, name,age):\n",
    "        self.name = name\n",
    "        self.age = age\n",
    "    def run(self):\n",
    "        return 'run'\n",
    "\n",
    "person1 = EmployeeCharacter(\"Mukesh\",24)\n",
    "\n",
    "person2 = EmployeeCharacter(\"Lokesh\",19)"
   ]
  },
  {
   "cell_type": "code",
   "execution_count": 23,
   "id": "932a5b4d",
   "metadata": {},
   "outputs": [
    {
     "name": "stdout",
     "output_type": "stream",
     "text": [
      "<__main__.EmployeeCharacter object at 0x00000147561F51C0>\n"
     ]
    }
   ],
   "source": [
    "print(person1)"
   ]
  },
  {
   "cell_type": "code",
   "execution_count": 24,
   "id": "802a7d35",
   "metadata": {},
   "outputs": [
    {
     "data": {
      "text/plain": [
       "24"
      ]
     },
     "execution_count": 24,
     "metadata": {},
     "output_type": "execute_result"
    }
   ],
   "source": [
    "person1.age"
   ]
  },
  {
   "cell_type": "code",
   "execution_count": 25,
   "id": "6f6f24cd",
   "metadata": {},
   "outputs": [
    {
     "data": {
      "text/plain": [
       "'Lokesh'"
      ]
     },
     "execution_count": 25,
     "metadata": {},
     "output_type": "execute_result"
    }
   ],
   "source": [
    "person2.name"
   ]
  },
  {
   "cell_type": "code",
   "execution_count": 26,
   "id": "ed6e36b1",
   "metadata": {},
   "outputs": [
    {
     "data": {
      "text/plain": [
       "'run'"
      ]
     },
     "execution_count": 26,
     "metadata": {},
     "output_type": "execute_result"
    }
   ],
   "source": [
    "person1.run()"
   ]
  },
  {
   "cell_type": "code",
   "execution_count": 35,
   "id": "52f2a837",
   "metadata": {},
   "outputs": [],
   "source": [
    "class SportsPerson:\n",
    "    \n",
    "    def __init__(self,name,sports,nickname):\n",
    "        self.name = name\n",
    "        self.sports = sports\n",
    "        self.nickname = nickname\n",
    "        \n",
    "    def favorite(self):\n",
    "        return \"Biriyani\"\n",
    "\n",
    "person = SportsPerson(\"Dhoni\",\"Cricket\",\"Thala\")\n",
    "\n",
    "person1 = SportsPerson(\"Undertaker\",\"WWE\", \"Deadman\")\n",
    "    "
   ]
  },
  {
   "cell_type": "code",
   "execution_count": 36,
   "id": "f3a8c9ca",
   "metadata": {},
   "outputs": [
    {
     "data": {
      "text/plain": [
       "'Cricket'"
      ]
     },
     "execution_count": 36,
     "metadata": {},
     "output_type": "execute_result"
    }
   ],
   "source": [
    "person.sports"
   ]
  },
  {
   "cell_type": "code",
   "execution_count": 37,
   "id": "a38cfc46",
   "metadata": {},
   "outputs": [
    {
     "data": {
      "text/plain": [
       "'Thala'"
      ]
     },
     "execution_count": 37,
     "metadata": {},
     "output_type": "execute_result"
    }
   ],
   "source": [
    "person.nickname"
   ]
  },
  {
   "cell_type": "code",
   "execution_count": 38,
   "id": "1aa0b2e3",
   "metadata": {},
   "outputs": [
    {
     "data": {
      "text/plain": [
       "'Biriyani'"
      ]
     },
     "execution_count": 38,
     "metadata": {},
     "output_type": "execute_result"
    }
   ],
   "source": [
    "person.favorite()"
   ]
  },
  {
   "cell_type": "code",
   "execution_count": 11,
   "id": "caf24f24",
   "metadata": {},
   "outputs": [],
   "source": [
    "class SportPerson:\n",
    "    allow  = True\n",
    "    def __init__(self,name,age):\n",
    "        self.name = name\n",
    "        self.age = age\n",
    "    def shout(self):\n",
    "        print(f'Greatest sports person is: {self.name}')\n",
    "person1 = SportPerson(\"Dhoni\",39)\n",
    "person2 = SportPerson(\"Ronaldo\",35)"
   ]
  },
  {
   "cell_type": "code",
   "execution_count": 12,
   "id": "1a8376c1",
   "metadata": {},
   "outputs": [
    {
     "data": {
      "text/plain": [
       "39"
      ]
     },
     "execution_count": 12,
     "metadata": {},
     "output_type": "execute_result"
    }
   ],
   "source": [
    "person1.age"
   ]
  },
  {
   "cell_type": "code",
   "execution_count": 13,
   "id": "689632a9",
   "metadata": {},
   "outputs": [
    {
     "data": {
      "text/plain": [
       "True"
      ]
     },
     "execution_count": 13,
     "metadata": {},
     "output_type": "execute_result"
    }
   ],
   "source": [
    "person1.allow"
   ]
  },
  {
   "cell_type": "code",
   "execution_count": 14,
   "id": "f31f18c3",
   "metadata": {},
   "outputs": [
    {
     "name": "stdout",
     "output_type": "stream",
     "text": [
      "Greatest sports person is: Dhoni\n"
     ]
    }
   ],
   "source": [
    "person1.shout()"
   ]
  },
  {
   "cell_type": "code",
   "execution_count": 15,
   "id": "b4b8dfed",
   "metadata": {},
   "outputs": [
    {
     "data": {
      "text/plain": [
       "True"
      ]
     },
     "execution_count": 15,
     "metadata": {},
     "output_type": "execute_result"
    }
   ],
   "source": [
    "person2.allow"
   ]
  },
  {
   "cell_type": "code",
   "execution_count": 17,
   "id": "174f3299",
   "metadata": {},
   "outputs": [
    {
     "name": "stdout",
     "output_type": "stream",
     "text": [
      "Greatest sports person is: Ronaldo\n"
     ]
    }
   ],
   "source": [
    "person2.shout()"
   ]
  },
  {
   "cell_type": "code",
   "execution_count": 57,
   "id": "71c7232c",
   "metadata": {},
   "outputs": [
    {
     "name": "stdout",
     "output_type": "stream",
     "text": [
      "Oldest cat is :16\n"
     ]
    }
   ],
   "source": [
    "#Given the below class:\n",
    "class Cat:\n",
    "    species = 'mammal'\n",
    "    def __init__(self, name, age):\n",
    "        self.name = name\n",
    "        self.age = age\n",
    "\n",
    "# 1 Instantiate the Cat object with 3 cats\n",
    "\n",
    "cat1 = Cat(\"Raju\",12)\n",
    "\n",
    "cat2 = Cat(\"Ravi\",13)\n",
    "\n",
    "cat3 = Cat(\"Rani\",16)\n",
    "\n",
    "# 2 Create a function that finds the oldest cat\n",
    "def oldest_cat(*arg):\n",
    "    return max(arg)\n",
    "\n",
    "# 3 Print out: \"The oldest cat is x years old.\". x will be the oldest cat age by using the function in #2\n",
    "\n",
    "print(f'Oldest cat is :{oldest_cat(cat1.age,cat2.age,cat3.age)}')"
   ]
  },
  {
   "cell_type": "code",
   "execution_count": 82,
   "id": "e696c416",
   "metadata": {},
   "outputs": [],
   "source": [
    "class SportPerson:\n",
    "    allow  = True\n",
    "    def __init__(self,name,age):\n",
    "        self.name = name\n",
    "        self.age = age\n",
    "    def shout(self):\n",
    "        print(f'Greatest sports person is: {self.name}')\n",
    "    @classmethod\n",
    "    def addition(cls,num1,num2):\n",
    "        return cls(\"teddy\",num1 + num2)\n",
    "person1 = SportPerson(\"Dhoni\",39)\n",
    "person2 = SportPerson(\"Ronaldo\",35)\n",
    "person3 = SportPerson.addition(2,5)"
   ]
  },
  {
   "cell_type": "code",
   "execution_count": 83,
   "id": "a9361789",
   "metadata": {},
   "outputs": [
    {
     "name": "stdout",
     "output_type": "stream",
     "text": [
      "<__main__.SportPerson object at 0x000002420613F5B0>\n"
     ]
    }
   ],
   "source": [
    "print(SportPerson.addition(2,5))"
   ]
  },
  {
   "cell_type": "code",
   "execution_count": 84,
   "id": "f3baee09",
   "metadata": {},
   "outputs": [
    {
     "data": {
      "text/plain": [
       "7"
      ]
     },
     "execution_count": 84,
     "metadata": {},
     "output_type": "execute_result"
    }
   ],
   "source": [
    "person3.age"
   ]
  },
  {
   "cell_type": "code",
   "execution_count": null,
   "id": "b80b30c3",
   "metadata": {},
   "outputs": [],
   "source": [
    "class User:\n",
    "    def __init__(self, name, age):\n",
    "        self.name = name\n",
    "        self.age = age\n",
    "class Wizard(User):\n",
    "    def __init__(self, name1,age():\n",
    "        self.name1 = name1\n",
    "        self.name2 = name2\n",
    "    def power(self):\n",
    "        print(f'Power of the wizard is fire and of the grand master is:{self.name})\n",
    "class Archer(User):\n",
    "    def power():\n",
    "        print(f'Skill of the Archer he can attack by hearing the voice:{self.})"
   ]
  },
  {
   "cell_type": "code",
   "execution_count": 1,
   "id": "0fd27719",
   "metadata": {},
   "outputs": [
    {
     "name": "stdout",
     "output_type": "stream",
     "text": [
      "this is function one\n",
      " this is function 2 \n"
     ]
    }
   ],
   "source": [
    "class Parent:\n",
    "     def func1(self):\n",
    "        print(\"this is function one\")\n",
    "class Child(Parent):\n",
    "     def func2(self):\n",
    "        print(\" this is function 2 \")\n",
    "ob = Child()\n",
    "ob.func1()\n",
    "ob.func2()"
   ]
  },
  {
   "cell_type": "code",
   "execution_count": 8,
   "id": "e9faa4ff",
   "metadata": {},
   "outputs": [
    {
     "name": "stdout",
     "output_type": "stream",
     "text": [
      "Barking dog seldom bite\n",
      "talk similiar to human\n",
      "Animal have language\n"
     ]
    }
   ],
   "source": [
    "class Animal:\n",
    "    def speaker(self):\n",
    "        print(\"Animal have language\")\n",
    "class Dog(Animal):\n",
    "    def bark(self):\n",
    "        print(\"Barking dog seldom bite\")\n",
    "class parrot(Dog):\n",
    "    def speak(self):\n",
    "        print(\"talk similiar to human\")\n",
    "d  = parrot()\n",
    "d.bark()\n",
    "d.speak()\n",
    "d.speaker()"
   ]
  },
  {
   "cell_type": "code",
   "execution_count": 4,
   "id": "c8227e9d",
   "metadata": {},
   "outputs": [
    {
     "name": "stdout",
     "output_type": "stream",
     "text": [
      "dog barking\n",
      "Animal Speaking\n",
      "Eating bread...\n"
     ]
    }
   ],
   "source": [
    "class Animal:  \n",
    "    def speak(self):  \n",
    "        print(\"Animal Speaking\")  \n",
    "#The child class Dog inherits the base class Animal  \n",
    "class Dog(Animal):  \n",
    "    def bark(self):  \n",
    "        print(\"dog barking\")  \n",
    "#The child class Dogchild inherits another child class Dog  \n",
    "class DogChild(Dog):  \n",
    "    def eat(self):  \n",
    "        print(\"Eating bread...\")  \n",
    "d = DogChild()  \n",
    "d.bark()  \n",
    "d.speak()  \n",
    "d.eat()  "
   ]
  },
  {
   "cell_type": "code",
   "execution_count": 12,
   "id": "163fafa4",
   "metadata": {},
   "outputs": [
    {
     "data": {
      "text/plain": [
       "14"
      ]
     },
     "execution_count": 12,
     "metadata": {},
     "output_type": "execute_result"
    }
   ],
   "source": [
    "class Calculation:\n",
    "    def summation(self,num1,num2):\n",
    "        return num1+num2\n",
    "class Calculation1(Calculation):\n",
    "    def multiply(self,num1,num2):\n",
    "        return num1*num2\n",
    "class Calculation2(Calculation1):\n",
    "    def division(self,num1,num2):\n",
    "        return num1/num2\n",
    "math = Calculation2()\n",
    "math.division(10,4)\n",
    "math.multiply(10,4)\n",
    "math.summation(10,4)"
   ]
  },
  {
   "cell_type": "code",
   "execution_count": null,
   "id": "9945f386",
   "metadata": {},
   "outputs": [],
   "source": [
    "class Calculation1:  \n",
    "    def Summation(self,a,b):  \n",
    "        return a+b;  \n",
    "class Calculation2:  \n",
    "    def Multiplication(self,a,b):  \n",
    "        return a*b;  \n",
    "class Derived(Calculation1,Calculation2):  \n",
    "    def Divide(self,a,b):  \n",
    "        return a/b;  \n",
    "d = Derived()  \n",
    "print(d.Summation(10,20))  \n",
    "print(d.Multiplication(10,20))  \n",
    "print(d.Divide(10,20))  "
   ]
  }
 ],
 "metadata": {
  "kernelspec": {
   "display_name": "Python 3",
   "language": "python",
   "name": "python3"
  },
  "language_info": {
   "codemirror_mode": {
    "name": "ipython",
    "version": 3
   },
   "file_extension": ".py",
   "mimetype": "text/x-python",
   "name": "python",
   "nbconvert_exporter": "python",
   "pygments_lexer": "ipython3",
   "version": "3.8.8"
  }
 },
 "nbformat": 4,
 "nbformat_minor": 5
}
