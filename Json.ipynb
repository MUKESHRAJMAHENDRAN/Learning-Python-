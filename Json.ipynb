{
 "cells": [
  {
   "cell_type": "code",
   "execution_count": 1,
   "id": "7370a48f",
   "metadata": {},
   "outputs": [],
   "source": [
    "a={\n",
    "    \"Name\":\"Mukesh\",\n",
    "    \"Age\":24,\n",
    "    \"Sex\":\"Male\",\n",
    "    \"City\":\"Cheyyar\",\n",
    "    \"Phone\":9385507550,\n",
    "    \"Degree\":\"Computer science\",\n",
    "    \"Good person\":True \n",
    "  }"
   ]
  },
  {
   "cell_type": "code",
   "execution_count": 2,
   "id": "f1c5375e",
   "metadata": {},
   "outputs": [
    {
     "name": "stdout",
     "output_type": "stream",
     "text": [
      "<class 'dict'>\n"
     ]
    }
   ],
   "source": [
    "print(type(a))"
   ]
  },
  {
   "cell_type": "code",
   "execution_count": 13,
   "id": "494a6dc7",
   "metadata": {},
   "outputs": [],
   "source": [
    "import json\n",
    "b=json.dumps(a,indent=4,sort_keys=True)"
   ]
  },
  {
   "cell_type": "code",
   "execution_count": 14,
   "id": "8184710f",
   "metadata": {},
   "outputs": [
    {
     "name": "stdout",
     "output_type": "stream",
     "text": [
      "{\n",
      "    \"Age\": 24,\n",
      "    \"City\": \"Cheyyar\",\n",
      "    \"Degree\": \"Computer science\",\n",
      "    \"Good person\": true,\n",
      "    \"Name\": \"Mukesh\",\n",
      "    \"Phone\": 9385507550,\n",
      "    \"Sex\": \"Male\"\n",
      "}\n"
     ]
    }
   ],
   "source": [
    "print(b)"
   ]
  },
  {
   "cell_type": "code",
   "execution_count": 5,
   "id": "3488db5d",
   "metadata": {},
   "outputs": [
    {
     "name": "stdout",
     "output_type": "stream",
     "text": [
      "<class 'str'>\n"
     ]
    }
   ],
   "source": [
    "print(type(b))"
   ]
  },
  {
   "cell_type": "code",
   "execution_count": 26,
   "id": "9b49db3b",
   "metadata": {},
   "outputs": [],
   "source": [
    "c=json.loads(b)"
   ]
  },
  {
   "cell_type": "code",
   "execution_count": 27,
   "id": "eb30fec7",
   "metadata": {},
   "outputs": [
    {
     "name": "stdout",
     "output_type": "stream",
     "text": [
      "{'Age': 24, 'City': 'Cheyyar', 'Degree': 'Computer science', 'Good person': True, 'Name': 'Mukesh', 'Phone': 9385507550, 'Sex': 'Male'}\n"
     ]
    }
   ],
   "source": [
    "print(c)"
   ]
  }
 ],
 "metadata": {
  "kernelspec": {
   "display_name": "Python 3 (ipykernel)",
   "language": "python",
   "name": "python3"
  },
  "language_info": {
   "codemirror_mode": {
    "name": "ipython",
    "version": 3
   },
   "file_extension": ".py",
   "mimetype": "text/x-python",
   "name": "python",
   "nbconvert_exporter": "python",
   "pygments_lexer": "ipython3",
   "version": "3.8.10"
  }
 },
 "nbformat": 4,
 "nbformat_minor": 5
}
