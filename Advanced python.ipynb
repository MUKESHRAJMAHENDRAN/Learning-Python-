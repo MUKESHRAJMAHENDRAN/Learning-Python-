{
 "cells": [
  {
   "cell_type": "markdown",
   "id": "3691bc09",
   "metadata": {},
   "source": [
    "## Reading the doc string in the function"
   ]
  },
  {
   "cell_type": "code",
   "execution_count": 6,
   "id": "a98713f6",
   "metadata": {},
   "outputs": [],
   "source": [
    "def ad():\n",
    "    ''' Hi this is mukeshraj i am learning data science and machine learning'''\n",
    "    print(ad())"
   ]
  },
  {
   "cell_type": "code",
   "execution_count": 7,
   "id": "4fcd01ba",
   "metadata": {},
   "outputs": [
    {
     "name": "stdout",
     "output_type": "stream",
     "text": [
      " Hi this is mukeshraj i am learning data science and machine learning\n"
     ]
    }
   ],
   "source": [
    "print(ad.__doc__)"
   ]
  },
  {
   "cell_type": "code",
   "execution_count": 8,
   "id": "0d4c852d",
   "metadata": {},
   "outputs": [],
   "source": [
    "## Cleaning the code"
   ]
  },
  {
   "cell_type": "code",
   "execution_count": 13,
   "id": "0e8d4ffe",
   "metadata": {},
   "outputs": [],
   "source": [
    "def is_even(num):\n",
    "    if num % 2 ==0:\n",
    "        return True\n",
    "    else:\n",
    "        return False"
   ]
  },
  {
   "cell_type": "code",
   "execution_count": 15,
   "id": "987f5904",
   "metadata": {},
   "outputs": [
    {
     "data": {
      "text/plain": [
       "True"
      ]
     },
     "execution_count": 15,
     "metadata": {},
     "output_type": "execute_result"
    }
   ],
   "source": [
    "is_even(8)"
   ]
  },
  {
   "cell_type": "code",
   "execution_count": 16,
   "id": "bdb6d940",
   "metadata": {},
   "outputs": [
    {
     "data": {
      "text/plain": [
       "False"
      ]
     },
     "execution_count": 16,
     "metadata": {},
     "output_type": "execute_result"
    }
   ],
   "source": [
    "is_even(7)"
   ]
  },
  {
   "cell_type": "code",
   "execution_count": 17,
   "id": "3463b06e",
   "metadata": {},
   "outputs": [],
   "source": [
    "def is_even1(num):\n",
    "    if num % 2 ==0:\n",
    "        return True\n",
    "    return False"
   ]
  },
  {
   "cell_type": "code",
   "execution_count": 19,
   "id": "dff8758e",
   "metadata": {},
   "outputs": [
    {
     "data": {
      "text/plain": [
       "False"
      ]
     },
     "execution_count": 19,
     "metadata": {},
     "output_type": "execute_result"
    }
   ],
   "source": [
    "is_even1(81)"
   ]
  },
  {
   "cell_type": "code",
   "execution_count": 21,
   "id": "2bc054a2",
   "metadata": {},
   "outputs": [],
   "source": [
    "def is_even2(num):\n",
    "    return num % 2 ==0"
   ]
  },
  {
   "cell_type": "code",
   "execution_count": 23,
   "id": "9082ad76",
   "metadata": {},
   "outputs": [
    {
     "data": {
      "text/plain": [
       "True"
      ]
     },
     "execution_count": 23,
     "metadata": {},
     "output_type": "execute_result"
    }
   ],
   "source": [
    "is_even2(2)"
   ]
  },
  {
   "cell_type": "code",
   "execution_count": 24,
   "id": "562901e9",
   "metadata": {},
   "outputs": [
    {
     "data": {
      "text/plain": [
       "False"
      ]
     },
     "execution_count": 24,
     "metadata": {},
     "output_type": "execute_result"
    }
   ],
   "source": [
    "is_even2(21)"
   ]
  },
  {
   "cell_type": "markdown",
   "id": "aea412c2",
   "metadata": {},
   "source": [
    "## * arg and **Kwarg"
   ]
  },
  {
   "cell_type": "code",
   "execution_count": 25,
   "id": "dee30a4c",
   "metadata": {},
   "outputs": [],
   "source": [
    "def num(n):\n",
    "    return sum(n)"
   ]
  },
  {
   "cell_type": "code",
   "execution_count": 26,
   "id": "03904e3f",
   "metadata": {},
   "outputs": [
    {
     "ename": "TypeError",
     "evalue": "num() takes 1 positional argument but 9 were given",
     "output_type": "error",
     "traceback": [
      "\u001b[1;31m---------------------------------------------------------------------------\u001b[0m",
      "\u001b[1;31mTypeError\u001b[0m                                 Traceback (most recent call last)",
      "\u001b[1;32m<ipython-input-26-8bff7d06ad05>\u001b[0m in \u001b[0;36m<module>\u001b[1;34m\u001b[0m\n\u001b[1;32m----> 1\u001b[1;33m \u001b[0mnum\u001b[0m\u001b[1;33m(\u001b[0m\u001b[1;36m1\u001b[0m\u001b[1;33m,\u001b[0m\u001b[1;36m2\u001b[0m\u001b[1;33m,\u001b[0m\u001b[1;36m2\u001b[0m\u001b[1;33m,\u001b[0m\u001b[1;36m3\u001b[0m\u001b[1;33m,\u001b[0m\u001b[1;36m4\u001b[0m\u001b[1;33m,\u001b[0m\u001b[1;36m4\u001b[0m\u001b[1;33m,\u001b[0m\u001b[1;36m5\u001b[0m\u001b[1;33m,\u001b[0m\u001b[1;36m6\u001b[0m\u001b[1;33m,\u001b[0m\u001b[1;36m2\u001b[0m\u001b[1;33m)\u001b[0m\u001b[1;33m\u001b[0m\u001b[1;33m\u001b[0m\u001b[0m\n\u001b[0m",
      "\u001b[1;31mTypeError\u001b[0m: num() takes 1 positional argument but 9 were given"
     ]
    }
   ],
   "source": [
    "num(1,2,2,3,4,4,5,6,2)"
   ]
  },
  {
   "cell_type": "code",
   "execution_count": 37,
   "id": "de1e9343",
   "metadata": {},
   "outputs": [],
   "source": [
    "def num(*arg):\n",
    "    return sum(arg)"
   ]
  },
  {
   "cell_type": "code",
   "execution_count": 38,
   "id": "b3a59ec1",
   "metadata": {},
   "outputs": [
    {
     "data": {
      "text/plain": [
       "29"
      ]
     },
     "execution_count": 38,
     "metadata": {},
     "output_type": "execute_result"
    }
   ],
   "source": [
    "num(1,2,2,3,4,4,5,6,2)"
   ]
  },
  {
   "cell_type": "code",
   "execution_count": 39,
   "id": "dcd795bb",
   "metadata": {},
   "outputs": [],
   "source": [
    "def num1(**kwarg):\n",
    "    return(sum(kwarg.values()))"
   ]
  },
  {
   "cell_type": "code",
   "execution_count": 40,
   "id": "9669bd59",
   "metadata": {},
   "outputs": [
    {
     "name": "stdout",
     "output_type": "stream",
     "text": [
      "21\n"
     ]
    }
   ],
   "source": [
    "print(num1(a=1,b=20))"
   ]
  },
  {
   "cell_type": "code",
   "execution_count": 41,
   "id": "a2a73d7e",
   "metadata": {},
   "outputs": [
    {
     "data": {
      "text/plain": [
       "function"
      ]
     },
     "execution_count": 41,
     "metadata": {},
     "output_type": "execute_result"
    }
   ],
   "source": [
    "type(num)"
   ]
  },
  {
   "cell_type": "markdown",
   "id": "d02d78b6",
   "metadata": {},
   "source": [
    "Note: For arg we can take many positional argument and perform the function and for Kwargs Take key and values to perform the function"
   ]
  },
  {
   "cell_type": "code",
   "execution_count": 42,
   "id": "39ac687d",
   "metadata": {},
   "outputs": [],
   "source": [
    "# Highest even in the function"
   ]
  },
  {
   "cell_type": "code",
   "execution_count": 76,
   "id": "8a85955b",
   "metadata": {},
   "outputs": [],
   "source": [
    "def high_even(lst):\n",
    "    even = []\n",
    "    for item in lst:\n",
    "        if (item%2) == 0:\n",
    "            even.append(item)\n",
    "    return max(even)"
   ]
  },
  {
   "cell_type": "code",
   "execution_count": 77,
   "id": "a9e2e852",
   "metadata": {},
   "outputs": [
    {
     "name": "stdout",
     "output_type": "stream",
     "text": [
      "42\n"
     ]
    }
   ],
   "source": [
    "print(high_even([10,1,2,13,42,8]))"
   ]
  },
  {
   "cell_type": "code",
   "execution_count": 85,
   "id": "e0edb1b2",
   "metadata": {},
   "outputs": [],
   "source": [
    "def even(*a):\n",
    "    a = list(input(\"Enter\"))\n",
    "    return max(a)"
   ]
  },
  {
   "cell_type": "code",
   "execution_count": 86,
   "id": "8436afb8",
   "metadata": {},
   "outputs": [
    {
     "name": "stdout",
     "output_type": "stream",
     "text": [
      "Enter3,4\n"
     ]
    },
    {
     "data": {
      "text/plain": [
       "'4'"
      ]
     },
     "execution_count": 86,
     "metadata": {},
     "output_type": "execute_result"
    }
   ],
   "source": [
    "even(a)"
   ]
  },
  {
   "cell_type": "code",
   "execution_count": 87,
   "id": "4099bbb5",
   "metadata": {},
   "outputs": [
    {
     "name": "stdout",
     "output_type": "stream",
     "text": [
      "Enter5,6\n"
     ]
    },
    {
     "data": {
      "text/plain": [
       "str"
      ]
     },
     "execution_count": 87,
     "metadata": {},
     "output_type": "execute_result"
    }
   ],
   "source": [
    "type(even(a))"
   ]
  },
  {
   "cell_type": "code",
   "execution_count": 91,
   "id": "0ee916ff",
   "metadata": {},
   "outputs": [],
   "source": [
    "# Wallrus operator"
   ]
  },
  {
   "cell_type": "code",
   "execution_count": null,
   "id": "37643428",
   "metadata": {},
   "outputs": [],
   "source": [
    "a = 'helloooooooooo'\n",
    "\n",
    "while ((n := len(a)) > 1):\n",
    "    print(n)\n",
    "    a = a[:-1]\n",
    "\n",
    "print(a)"
   ]
  }
 ],
 "metadata": {
  "kernelspec": {
   "display_name": "Python 3",
   "language": "python",
   "name": "python3"
  },
  "language_info": {
   "codemirror_mode": {
    "name": "ipython",
    "version": 3
   },
   "file_extension": ".py",
   "mimetype": "text/x-python",
   "name": "python",
   "nbconvert_exporter": "python",
   "pygments_lexer": "ipython3",
   "version": "3.8.8"
  }
 },
 "nbformat": 4,
 "nbformat_minor": 5
}
