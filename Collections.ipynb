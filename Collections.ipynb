{
 "cells": [
  {
   "cell_type": "markdown",
   "id": "18709b21",
   "metadata": {},
   "source": [
    "# counter"
   ]
  },
  {
   "cell_type": "code",
   "execution_count": 15,
   "id": "c6b1c9f7",
   "metadata": {},
   "outputs": [
    {
     "name": "stdout",
     "output_type": "stream",
     "text": [
      "Counter({'a': 4, 'b': 3, 'c': 2})\n"
     ]
    }
   ],
   "source": [
    "from collections import Counter\n",
    "a=\"abbbaaacc\"\n",
    "print(Counter(a))"
   ]
  },
  {
   "cell_type": "code",
   "execution_count": 16,
   "id": "0c4c9478",
   "metadata": {},
   "outputs": [
    {
     "name": "stdout",
     "output_type": "stream",
     "text": [
      "dict_items([('a', 4), ('b', 3), ('c', 2)])\n"
     ]
    }
   ],
   "source": [
    "from collections import Counter\n",
    "a=\"abbbaaacc\"\n",
    "print(Counter(a).items())"
   ]
  },
  {
   "cell_type": "code",
   "execution_count": 18,
   "id": "3490ef2b",
   "metadata": {},
   "outputs": [
    {
     "name": "stdout",
     "output_type": "stream",
     "text": [
      "dict_keys(['a', 'b', 'c'])\n"
     ]
    }
   ],
   "source": [
    "from collections import Counter\n",
    "a=\"abbbaaacc\"\n",
    "print(Counter(a).keys())"
   ]
  },
  {
   "cell_type": "code",
   "execution_count": 20,
   "id": "40549a73",
   "metadata": {},
   "outputs": [
    {
     "name": "stdout",
     "output_type": "stream",
     "text": [
      "dict_values([4, 3, 2])\n"
     ]
    }
   ],
   "source": [
    "from collections import Counter\n",
    "a=\"abbbaaacc\"\n",
    "print(Counter(a).values())"
   ]
  },
  {
   "cell_type": "code",
   "execution_count": 32,
   "id": "dc6cf4a4",
   "metadata": {},
   "outputs": [
    {
     "name": "stdout",
     "output_type": "stream",
     "text": [
      "a\n"
     ]
    }
   ],
   "source": [
    "from collections import Counter\n",
    "a=\"abbbaaacc\"\n",
    "print(Counter(a).most_common(2)[0][0])"
   ]
  },
  {
   "cell_type": "code",
   "execution_count": 35,
   "id": "1de72879",
   "metadata": {},
   "outputs": [
    {
     "name": "stdout",
     "output_type": "stream",
     "text": [
      "['a', 'a', 'a', 'a', 'b', 'b', 'b', 'c', 'c']\n"
     ]
    }
   ],
   "source": [
    "from collections import Counter\n",
    "a=\"abbbaaacc\"\n",
    "print(list(Counter(a).elements()))"
   ]
  }
 ],
 "metadata": {
  "kernelspec": {
   "display_name": "Python 3 (ipykernel)",
   "language": "python",
   "name": "python3"
  },
  "language_info": {
   "codemirror_mode": {
    "name": "ipython",
    "version": 3
   },
   "file_extension": ".py",
   "mimetype": "text/x-python",
   "name": "python",
   "nbconvert_exporter": "python",
   "pygments_lexer": "ipython3",
   "version": "3.8.10"
  }
 },
 "nbformat": 4,
 "nbformat_minor": 5
}
